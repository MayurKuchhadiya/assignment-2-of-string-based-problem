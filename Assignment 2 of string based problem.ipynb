{
 "cells": [
  {
   "cell_type": "markdown",
   "id": "ade1dd4a-d310-42e8-9fbb-6bed31675f78",
   "metadata": {},
   "source": [
    "                                  Assignment=2\n",
    "                                "
   ]
  },
  {
   "cell_type": "markdown",
   "id": "fbac0de5-0526-4732-abed-5e8e8b979c87",
   "metadata": {},
   "source": [
    "1.Write a program to reverse a string."
   ]
  },
  {
   "cell_type": "code",
   "execution_count": 13,
   "id": "70d2037a-772c-4746-8ec1-26289a1215af",
   "metadata": {},
   "outputs": [
    {
     "name": "stdin",
     "output_type": "stream",
     "text": [
      "enter the string mayur is smart\n"
     ]
    },
    {
     "name": "stdout",
     "output_type": "stream",
     "text": [
      "reversed string is: trams si ruyam\n"
     ]
    }
   ],
   "source": [
    "input_string=input('enter the string')\n",
    "output_string=input_string[::-1]\n",
    "print('reversed string is:',output_string)"
   ]
  },
  {
   "cell_type": "markdown",
   "id": "b66ec1be-8daf-4569-a674-9be7f499418a",
   "metadata": {},
   "source": [
    "2.Check if a string is a palindrome"
   ]
  },
  {
   "cell_type": "code",
   "execution_count": 3,
   "id": "3ccf7144-2e82-4ff3-9fc5-db33635c3882",
   "metadata": {},
   "outputs": [
    {
     "name": "stdin",
     "output_type": "stream",
     "text": [
      "enter the string maraaram\n"
     ]
    },
    {
     "name": "stdout",
     "output_type": "stream",
     "text": [
      "string is palindrome\n"
     ]
    }
   ],
   "source": [
    "s1=input('enter the string')\n",
    "s1.lower()\n",
    "s2=s1[::-1]\n",
    "if s1==s2:\n",
    "    print('string is palindrome')\n",
    "else:\n",
    "    print('string is not palindrome')"
   ]
  },
  {
   "cell_type": "markdown",
   "id": "be9f66c6-2551-4b9b-b3cb-738dc0a8fbc7",
   "metadata": {},
   "source": [
    "3. Convert a string to uppercase."
   ]
  },
  {
   "cell_type": "code",
   "execution_count": 4,
   "id": "4197ee7b-ab0d-4aee-ab98-027032d608e0",
   "metadata": {},
   "outputs": [
    {
     "name": "stdin",
     "output_type": "stream",
     "text": [
      "enter the string mayur\n"
     ]
    },
    {
     "name": "stdout",
     "output_type": "stream",
     "text": [
      "output: MAYUR\n"
     ]
    }
   ],
   "source": [
    "input_string=input('enter the string')\n",
    "output_string=input_string.upper()\n",
    "print('output:',output_string)"
   ]
  },
  {
   "cell_type": "markdown",
   "id": "881876e1-bbc0-413c-bf4c-7f0a28158a9b",
   "metadata": {},
   "source": [
    "4. Convert a string to lowercase."
   ]
  },
  {
   "cell_type": "code",
   "execution_count": 5,
   "id": "b66239a4-ae03-4d82-b348-67c80315b840",
   "metadata": {},
   "outputs": [
    {
     "name": "stdin",
     "output_type": "stream",
     "text": [
      "enter the string MAyur\n"
     ]
    },
    {
     "name": "stdout",
     "output_type": "stream",
     "text": [
      "output: mayur\n"
     ]
    }
   ],
   "source": [
    "input_string=input('enter the string')\n",
    "output_string=input_string.lower()\n",
    "print('output:',output_string)"
   ]
  },
  {
   "cell_type": "markdown",
   "id": "a289170e-6c03-473e-a7f3-3df37a0f8a6b",
   "metadata": {},
   "source": [
    "5. Count the number of vowels in a string."
   ]
  },
  {
   "cell_type": "code",
   "execution_count": 23,
   "id": "e446fa70-11aa-4115-b2f5-9524842fabfc",
   "metadata": {},
   "outputs": [
    {
     "name": "stdin",
     "output_type": "stream",
     "text": [
      "enter the string Mayur Kuchhadiya\n"
     ]
    },
    {
     "name": "stdout",
     "output_type": "stream",
     "text": [
      "number of vowels: 6\n"
     ]
    }
   ],
   "source": [
    "input_string=input('enter the string')\n",
    "input_string.lower()\n",
    "vowels=0\n",
    "for i in input_string:\n",
    "    if(i=='a' or i=='e' or i=='i' or i=='o' or i=='u'):\n",
    "         vowels=vowels+1\n",
    "print('number of vowels:',vowels)    "
   ]
  },
  {
   "cell_type": "markdown",
   "id": "a745d6b1-0411-4960-ba06-054cc2285d76",
   "metadata": {},
   "source": [
    "6. Count the number of consonants in a string."
   ]
  },
  {
   "cell_type": "code",
   "execution_count": 27,
   "id": "998eb30c-6cb2-4216-96e6-831a6a33aac2",
   "metadata": {},
   "outputs": [
    {
     "name": "stdin",
     "output_type": "stream",
     "text": [
      "enter the string Mayur Kuchhadiya\n"
     ]
    },
    {
     "name": "stdout",
     "output_type": "stream",
     "text": [
      "total consonants in string: 9\n"
     ]
    }
   ],
   "source": [
    "input_string=input('enter the string')\n",
    "input_string.lower()\n",
    "vowels=0\n",
    "for i in input_string:\n",
    "    if(i!='a' and i!='e' and i!='i' and i!='o' and i!='u' and i!=' '):\n",
    "        vowels=vowels+1\n",
    "print('total consonants in string:',vowels)\n"
   ]
  },
  {
   "cell_type": "markdown",
   "id": "b4c772ca-fb17-49e0-82c8-037532cff734",
   "metadata": {},
   "source": [
    "7. Remove all whitespaces from a string."
   ]
  },
  {
   "cell_type": "code",
   "execution_count": 32,
   "id": "fdc1e57e-3efe-4629-b2e1-f2cd525667e0",
   "metadata": {},
   "outputs": [
    {
     "name": "stdin",
     "output_type": "stream",
     "text": [
      "enter the string Mayur is   smart\n"
     ]
    },
    {
     "name": "stdout",
     "output_type": "stream",
     "text": [
      "Mayurissmart\n"
     ]
    }
   ],
   "source": [
    "input_string=input('enter the string')\n",
    "output_string=input_string.replace(' ','')\n",
    "print(output_string)"
   ]
  },
  {
   "cell_type": "markdown",
   "id": "378b40e2-6dd7-4f55-bdde-b06e97fcbcca",
   "metadata": {},
   "source": [
    "8. Find the length of a string without using the `len()` function."
   ]
  },
  {
   "cell_type": "code",
   "execution_count": 35,
   "id": "70ef10ef-b501-4b73-a509-5070f5156545",
   "metadata": {},
   "outputs": [
    {
     "name": "stdin",
     "output_type": "stream",
     "text": [
      "enter the string mayur kuchhadiya\n"
     ]
    },
    {
     "name": "stdout",
     "output_type": "stream",
     "text": [
      "length of string: 16\n"
     ]
    }
   ],
   "source": [
    "input_string=input('enter the string')\n",
    "count=0\n",
    "for char in input_string:\n",
    "     count+=1\n",
    "print('length of string:',count)"
   ]
  },
  {
   "cell_type": "markdown",
   "id": "1ba8edf2-701e-4cfc-b36b-5a7c76ca2a69",
   "metadata": {},
   "source": [
    "9. Check if a string contains a specific word."
   ]
  },
  {
   "cell_type": "code",
   "execution_count": 41,
   "id": "9ebebe7f-5ed5-4d66-a72d-7b735b9441f7",
   "metadata": {},
   "outputs": [
    {
     "name": "stdin",
     "output_type": "stream",
     "text": [
      "enter the string my name is mk mer\n",
      "enter the word to find how\n"
     ]
    },
    {
     "name": "stdout",
     "output_type": "stream",
     "text": [
      "specified word is not present\n"
     ]
    }
   ],
   "source": [
    "input_string=input('enter the string')\n",
    "find_string=input('enter the word to find')\n",
    "if find_string in input_string:\n",
    "    print('specified word is present')\n",
    "else:\n",
    "    print('specified word is not present')"
   ]
  },
  {
   "cell_type": "markdown",
   "id": "0eed671a-7e3f-42e9-b7a7-9dc2441769e3",
   "metadata": {},
   "source": [
    "10. Replace a word in a string with another word."
   ]
  },
  {
   "cell_type": "code",
   "execution_count": 42,
   "id": "f2eb78ef-f535-40f4-a4f3-3475d1d02685",
   "metadata": {},
   "outputs": [
    {
     "name": "stdin",
     "output_type": "stream",
     "text": [
      "enter the string mayur is good\n",
      "enter the word to replace in string good\n",
      "enter the new word smart\n"
     ]
    },
    {
     "name": "stdout",
     "output_type": "stream",
     "text": [
      "new string is: mayur is smart\n"
     ]
    }
   ],
   "source": [
    "input_string=input('enter the string')\n",
    "replaceword=input('enter the word to replace in string')\n",
    "newword=input('enter the new word')\n",
    "output_string=input_string.replace(replaceword,newword)\n",
    "print('new string is:',output_string)"
   ]
  },
  {
   "cell_type": "markdown",
   "id": "04989e15-80f0-4ed4-b1a7-666977e4c11b",
   "metadata": {},
   "source": [
    "11. Count the occurrences of a word in a string."
   ]
  },
  {
   "cell_type": "code",
   "execution_count": 45,
   "id": "592d13ec-ffae-450a-afb0-6994af2ac615",
   "metadata": {},
   "outputs": [
    {
     "name": "stdin",
     "output_type": "stream",
     "text": [
      "enter the string my name is rishi and my course is python.\n",
      "enter the word to count my\n"
     ]
    },
    {
     "name": "stdout",
     "output_type": "stream",
     "text": [
      "total occurrences of word: 2\n"
     ]
    }
   ],
   "source": [
    "input_string=input('enter the string')\n",
    "count_word=str(input('enter the word to count'))\n",
    "output=input_string.count(count_word)\n",
    "print('total occurrences of word:', output)"
   ]
  },
  {
   "cell_type": "markdown",
   "id": "a58236e6-b204-4f29-b591-2ad019cbbb65",
   "metadata": {},
   "source": [
    "12. Find the first occurrence of a word in a string."
   ]
  },
  {
   "cell_type": "code",
   "execution_count": 49,
   "id": "0663031c-dee4-4416-a7bb-61f3ee297453",
   "metadata": {},
   "outputs": [
    {
     "name": "stdin",
     "output_type": "stream",
     "text": [
      "enter the string my name is mayur is\n",
      "enter the word to find is\n"
     ]
    },
    {
     "name": "stdout",
     "output_type": "stream",
     "text": [
      "index of first occurrence of word is: 8\n"
     ]
    }
   ],
   "source": [
    "input_string=input('enter the string')\n",
    "count_word=input('enter the word to find')\n",
    "output=input_string.find(count_word)\n",
    "print('index of first occurrence of word is:', output)"
   ]
  },
  {
   "cell_type": "markdown",
   "id": "708f1d01-0ae8-4ff6-9e54-ef03add34638",
   "metadata": {},
   "source": [
    "13. Find the last occurrence of a word in a string."
   ]
  },
  {
   "cell_type": "code",
   "execution_count": 53,
   "id": "80cfd685-5e24-4291-8be6-308c9483d09f",
   "metadata": {},
   "outputs": [
    {
     "name": "stdin",
     "output_type": "stream",
     "text": [
      "enter the string my name is mayur is\n",
      "enter the word to find is\n"
     ]
    },
    {
     "name": "stdout",
     "output_type": "stream",
     "text": [
      "index of first occurrence of word is: 17\n"
     ]
    }
   ],
   "source": [
    "input_string=input('enter the string')\n",
    "find_word=input('enter the word to find')\n",
    "output=input_string.rfind(find_word)\n",
    "print('index of first occurrence of word is:', output)"
   ]
  },
  {
   "cell_type": "markdown",
   "id": "40b36008-0be4-475c-a2fb-eae7cadb3c22",
   "metadata": {},
   "source": [
    "14. Split a string into a list of words."
   ]
  },
  {
   "cell_type": "code",
   "execution_count": 55,
   "id": "63406b3c-e87b-482b-b486-895e8a69225a",
   "metadata": {},
   "outputs": [
    {
     "name": "stdin",
     "output_type": "stream",
     "text": [
      "enter the string my name is mayur\n"
     ]
    },
    {
     "name": "stdout",
     "output_type": "stream",
     "text": [
      "['my', 'name', 'is', 'mayur']\n"
     ]
    }
   ],
   "source": [
    "input_string=input('enter the string')\n",
    "reverse_string=input_string.split()\n",
    "print(reverse_string)"
   ]
  },
  {
   "cell_type": "markdown",
   "id": "2462d8c9-f886-44ea-9f81-67133c6640f9",
   "metadata": {},
   "source": [
    "15. Join a list of words into a string."
   ]
  },
  {
   "cell_type": "code",
   "execution_count": 61,
   "id": "3c5b85b9-8d5a-4d02-8793-15c148ac42e9",
   "metadata": {},
   "outputs": [
    {
     "name": "stdout",
     "output_type": "stream",
     "text": [
      "my name is mayur\n"
     ]
    }
   ],
   "source": [
    "input_list=['my','name','is','mayur']\n",
    "output_string=' '.join(input_list)\n",
    "print(output_string)"
   ]
  },
  {
   "cell_type": "markdown",
   "id": "8797cd73-0339-4cf8-845e-e30622d08206",
   "metadata": {},
   "source": [
    "16. Convert a string where words are separated by spaces to one where words\n",
    "are separated by underscores."
   ]
  },
  {
   "cell_type": "code",
   "execution_count": 63,
   "id": "2fc63c44-8f71-453e-8c8f-cddc6e993c21",
   "metadata": {},
   "outputs": [
    {
     "name": "stdin",
     "output_type": "stream",
     "text": [
      "enter the string my name is mayur\n"
     ]
    },
    {
     "name": "stdout",
     "output_type": "stream",
     "text": [
      "new modify string will be: my_name_is_mayur\n"
     ]
    }
   ],
   "source": [
    "input_string=input('enter the string')\n",
    "output=input_string.replace(' ','_')\n",
    "print('new modify string will be:',output)"
   ]
  },
  {
   "cell_type": "markdown",
   "id": "ff157c15-5545-4c52-a1aa-112e74024b2e",
   "metadata": {},
   "source": [
    "17. Check if a string starts with a specific word or phrase."
   ]
  },
  {
   "cell_type": "code",
   "execution_count": 66,
   "id": "f43a83a1-3958-4933-88ba-376dda1af8a0",
   "metadata": {},
   "outputs": [
    {
     "name": "stdin",
     "output_type": "stream",
     "text": [
      "enter the string my name is mayur\n",
      "enter specific word name\n"
     ]
    },
    {
     "name": "stdout",
     "output_type": "stream",
     "text": [
      "False\n"
     ]
    }
   ],
   "source": [
    "input_string=input('enter the string')\n",
    "specific_word=input('enter specific word')\n",
    "output=input_string.startswith(specific_word)\n",
    "print(output)"
   ]
  },
  {
   "cell_type": "markdown",
   "id": "c06b739a-bd3e-48a3-bc3b-f15aab70e80f",
   "metadata": {},
   "source": [
    "18. Check if a string ends with a specific word or phrase."
   ]
  },
  {
   "cell_type": "code",
   "execution_count": 67,
   "id": "58f4e568-a692-4290-8c83-e2d1db2afe7a",
   "metadata": {},
   "outputs": [
    {
     "name": "stdin",
     "output_type": "stream",
     "text": [
      "enter the string my name is mayur\n",
      "enter specific word mayur\n"
     ]
    },
    {
     "name": "stdout",
     "output_type": "stream",
     "text": [
      "True\n"
     ]
    }
   ],
   "source": [
    "input_string=input('enter the string')\n",
    "specific_word=input('enter specific word')\n",
    "output=input_string.endswith(specific_word)\n",
    "print(output)"
   ]
  },
  {
   "cell_type": "markdown",
   "id": "be83644c-62be-40ae-befe-99df882f617d",
   "metadata": {},
   "source": [
    "19. Convert a string to title case"
   ]
  },
  {
   "cell_type": "code",
   "execution_count": 68,
   "id": "72534db6-39df-4d3b-ac68-bb51d16a37e7",
   "metadata": {},
   "outputs": [
    {
     "name": "stdin",
     "output_type": "stream",
     "text": [
      "enter string my name is mayur\n"
     ]
    },
    {
     "name": "stdout",
     "output_type": "stream",
     "text": [
      "title case of input is: My Name Is Mayur\n"
     ]
    }
   ],
   "source": [
    "input_string=input('enter string')\n",
    "output=input_string.title()\n",
    "print('title case of input is:', output)"
   ]
  },
  {
   "cell_type": "markdown",
   "id": "21eb7687-f251-46a8-aaa0-90b81c030185",
   "metadata": {},
   "source": [
    "20. Find the longest word in a string."
   ]
  },
  {
   "cell_type": "code",
   "execution_count": 1,
   "id": "30433c69-07b5-4034-b1a6-3d49d3f2b83b",
   "metadata": {},
   "outputs": [
    {
     "name": "stdin",
     "output_type": "stream",
     "text": [
      "enter a string my name is mayur\n"
     ]
    },
    {
     "name": "stdout",
     "output_type": "stream",
     "text": [
      "longest word: mayur\n"
     ]
    }
   ],
   "source": [
    "str=input('enter a string')\n",
    "word_list=str.split()\n",
    "longest_word=max(word_list,key = len)\n",
    "print('longest word:',longest_word)"
   ]
  },
  {
   "cell_type": "markdown",
   "id": "dccd5111-00e7-4a2f-84f6-f343bde491a5",
   "metadata": {},
   "source": [
    "21. Find the shortest word in a string."
   ]
  },
  {
   "cell_type": "code",
   "execution_count": 2,
   "id": "4995eb27-72bb-4fff-ac90-37ca75d82f8c",
   "metadata": {},
   "outputs": [
    {
     "name": "stdin",
     "output_type": "stream",
     "text": [
      "enter a string my name is mayur\n"
     ]
    },
    {
     "name": "stdout",
     "output_type": "stream",
     "text": [
      "shortest word: my\n"
     ]
    }
   ],
   "source": [
    "str=input('enter a string')\n",
    "word_list=str.split()\n",
    "shortest_word=min(word_list,key = len)\n",
    "print('shortest word:',shortest_word)"
   ]
  },
  {
   "cell_type": "markdown",
   "id": "8eec7d7e-8fea-427e-8885-fb87995e3f31",
   "metadata": {},
   "source": [
    "22. Reverse the order of words in a string."
   ]
  },
  {
   "cell_type": "code",
   "execution_count": 5,
   "id": "86469b38-5f69-48a4-b977-f0c824fde92a",
   "metadata": {},
   "outputs": [
    {
     "name": "stdin",
     "output_type": "stream",
     "text": [
      "enter a string my name is mayur\n"
     ]
    },
    {
     "name": "stdout",
     "output_type": "stream",
     "text": [
      "reversed string: mayur is name my\n"
     ]
    }
   ],
   "source": [
    "string=input('enter a string')\n",
    "words=string.split()\n",
    "words=list(reversed(words))\n",
    "print('reversed string:',' '.join(words))"
   ]
  },
  {
   "cell_type": "markdown",
   "id": "4dfa38d0-6edc-44da-be24-7e3f42420bcc",
   "metadata": {},
   "source": [
    "23. Check if a string is alphanumeric."
   ]
  },
  {
   "cell_type": "code",
   "execution_count": 16,
   "id": "a12341d4-1931-46c2-bdd6-998fe2c93540",
   "metadata": {},
   "outputs": [
    {
     "name": "stdin",
     "output_type": "stream",
     "text": [
      "enter a string Mk134\n"
     ]
    },
    {
     "name": "stdout",
     "output_type": "stream",
     "text": [
      "string is alphanum\n"
     ]
    }
   ],
   "source": [
    "string=input('enter a string')\n",
    "output=string.isalnum()\n",
    "if output is True:\n",
    "    print('string is alphanum')\n",
    "else:\n",
    "     print('string is not alphanum')"
   ]
  },
  {
   "cell_type": "markdown",
   "id": "e5907a8c-e7ab-490a-994c-f85cd1d6783f",
   "metadata": {},
   "source": [
    "24. Extract all digits from a string."
   ]
  },
  {
   "cell_type": "code",
   "execution_count": 25,
   "id": "96768998-498b-4e37-8ef8-2a8b477fd4ab",
   "metadata": {},
   "outputs": [
    {
     "name": "stdout",
     "output_type": "stream",
     "text": [
      "1234\n"
     ]
    }
   ],
   "source": [
    "def extracted_digit(string):\n",
    "    digits=''\n",
    "    \n",
    "    for char in string:\n",
    "        if char .isdigit():\n",
    "            digits+=char\n",
    "            \n",
    "    return digits\n",
    "\n",
    "string='mk1234'\n",
    "extract_digit=extracted_digit(string)\n",
    "print(extract_digit)"
   ]
  },
  {
   "cell_type": "markdown",
   "id": "e96fe1aa-600f-47f7-9a97-e02426126cfa",
   "metadata": {},
   "source": [
    "25. Extract all alphabets from a string."
   ]
  },
  {
   "cell_type": "code",
   "execution_count": 28,
   "id": "665e39ea-783d-480d-93ca-1468f6ac283d",
   "metadata": {},
   "outputs": [
    {
     "name": "stdout",
     "output_type": "stream",
     "text": [
      "mkah\n"
     ]
    }
   ],
   "source": [
    "def extract_alphabet(string):\n",
    "    alphabets=''\n",
    "    \n",
    "    for char in string:\n",
    "        if char .isalpha():\n",
    "            alphabets+=char\n",
    "            \n",
    "    return alphabets\n",
    "\n",
    "string='12mkah324'\n",
    "extracted_alphabet=extract_alphabet(string)\n",
    "print(extracted_alphabet)"
   ]
  },
  {
   "cell_type": "markdown",
   "id": "82932fed-37a2-452f-b0c1-6b1af7fc2356",
   "metadata": {},
   "source": [
    "26. Count the number of uppercase letters in a string."
   ]
  },
  {
   "cell_type": "code",
   "execution_count": 35,
   "id": "decf3020-6f48-4536-96ef-25bdcafcc196",
   "metadata": {},
   "outputs": [
    {
     "name": "stdout",
     "output_type": "stream",
     "text": [
      "3\n"
     ]
    }
   ],
   "source": [
    "string='MaYuR'\n",
    "count=0\n",
    "for i in string:\n",
    "    if i .isupper():\n",
    "        count+=1\n",
    "\n",
    "print(count)"
   ]
  },
  {
   "cell_type": "markdown",
   "id": "2c75f742-1717-40fc-9ba9-f2ca4efd9526",
   "metadata": {},
   "source": [
    "27. Count the number of lowercase letters in a string."
   ]
  },
  {
   "cell_type": "code",
   "execution_count": 36,
   "id": "bd27637a-8564-4fb5-983d-e5cd3d5bfe8d",
   "metadata": {},
   "outputs": [
    {
     "name": "stdout",
     "output_type": "stream",
     "text": [
      "2\n"
     ]
    }
   ],
   "source": [
    "string='MaYuR'\n",
    "count=0\n",
    "for i in string:\n",
    "    if i .islower():\n",
    "        count+=1\n",
    "\n",
    "print(count)"
   ]
  },
  {
   "cell_type": "markdown",
   "id": "127f3ab5-7ccf-467f-b9cd-e6710eecdff7",
   "metadata": {},
   "source": [
    "28. Swap the case of each character in a string."
   ]
  },
  {
   "cell_type": "code",
   "execution_count": 37,
   "id": "df1e0c8f-f51b-4dcd-890c-ba91c216e2df",
   "metadata": {},
   "outputs": [
    {
     "name": "stdout",
     "output_type": "stream",
     "text": [
      "mAyUr\n"
     ]
    }
   ],
   "source": [
    "string='MaYuR'\n",
    "output=string.swapcase()\n",
    "print(output)"
   ]
  },
  {
   "cell_type": "markdown",
   "id": "c372ab4d-2039-4752-a39c-85f311699bbc",
   "metadata": {},
   "source": [
    "29. Remove a specific word from a string."
   ]
  },
  {
   "cell_type": "code",
   "execution_count": 39,
   "id": "5102c196-c9a5-4f02-89c3-c237440437d7",
   "metadata": {},
   "outputs": [
    {
     "name": "stdin",
     "output_type": "stream",
     "text": [
      "enter a string mayur\n",
      "enter a specific word a\n"
     ]
    },
    {
     "name": "stdout",
     "output_type": "stream",
     "text": [
      "myur\n"
     ]
    }
   ],
   "source": [
    "string=input('enter a string')\n",
    "specified_word=input('enter a specific word')\n",
    "output=string.replace(specified_word,'')\n",
    "print(output)"
   ]
  },
  {
   "cell_type": "markdown",
   "id": "39add359-c0ab-4f71-a708-dd8cbf36018d",
   "metadata": {},
   "source": [
    "30. Check if a string is a valid email address."
   ]
  },
  {
   "cell_type": "code",
   "execution_count": 1,
   "id": "6a0b0dba-f04e-4f77-b08f-ec40e08b733b",
   "metadata": {},
   "outputs": [
    {
     "name": "stdout",
     "output_type": "stream",
     "text": [
      "True\n"
     ]
    }
   ],
   "source": [
    "import re \n",
    "\n",
    "def is_valid_email(email):\n",
    "    pattern = r'^[\\w\\.-]+@[\\w\\.-]+\\.\\w+$'  \n",
    "    if re.match(pattern, email):\n",
    "        return True\n",
    "    else:\n",
    "        return False\n",
    "\n",
    "email = \"mayur@gmail.com\"\n",
    "output = is_valid_email(email)\n",
    "print(output)"
   ]
  },
  {
   "cell_type": "markdown",
   "id": "417c9c6f-42a4-4219-a564-73012bbefe41",
   "metadata": {},
   "source": [
    "31. Extract the username from an email address string."
   ]
  },
  {
   "cell_type": "code",
   "execution_count": 6,
   "id": "adacabf0-35c8-43e2-b6d9-4b2afea44800",
   "metadata": {},
   "outputs": [
    {
     "name": "stdin",
     "output_type": "stream",
     "text": [
      "enter a mail id:- mayur@gmail.com\n"
     ]
    },
    {
     "name": "stdout",
     "output_type": "stream",
     "text": [
      "username of email id is : mayur\n"
     ]
    }
   ],
   "source": [
    "email:input('enter a mail id:-')\n",
    "output=email.split('@')\n",
    "print('username of email id is :',output[0])"
   ]
  },
  {
   "cell_type": "markdown",
   "id": "051902b0-422a-422d-90da-5b8a6f452bd1",
   "metadata": {},
   "source": [
    "32. Extract the domain name from an email address string."
   ]
  },
  {
   "cell_type": "code",
   "execution_count": 15,
   "id": "0df2d85a-dee8-4d54-ba94-38f6d7c1366d",
   "metadata": {},
   "outputs": [
    {
     "name": "stdin",
     "output_type": "stream",
     "text": [
      "enter a email id mayur@gmail.com\n"
     ]
    },
    {
     "name": "stdout",
     "output_type": "stream",
     "text": [
      "domain of email is: gmail\n"
     ]
    }
   ],
   "source": [
    "email=input('enter a email id')\n",
    "output=email.rsplit('@')\n",
    "output1=output[1].split('.')\n",
    "print('domain of email is:',output1[0])"
   ]
  },
  {
   "cell_type": "markdown",
   "id": "3fd4e882-efe6-4fc0-89d3-d96b96d731a8",
   "metadata": {},
   "source": [
    "33. Replace multiple spaces in a string with a single space."
   ]
  },
  {
   "cell_type": "code",
   "execution_count": 30,
   "id": "8405ed9f-a96b-4dbc-b7b4-2c86cd371ab6",
   "metadata": {},
   "outputs": [
    {
     "name": "stdin",
     "output_type": "stream",
     "text": [
      "enter a string my   name is  mayur\n"
     ]
    },
    {
     "name": "stdout",
     "output_type": "stream",
     "text": [
      "my name is mayur\n"
     ]
    }
   ],
   "source": [
    "string=input('enter a string')\n",
    "output=' '.join(string.split())\n",
    "print(output)"
   ]
  },
  {
   "cell_type": "markdown",
   "id": "00903937-8980-44a3-a66d-6e2172981f38",
   "metadata": {},
   "source": [
    "34. Check if a string is a valid URL."
   ]
  },
  {
   "cell_type": "code",
   "execution_count": 40,
   "id": "f182fb9b-8f7b-4b95-9a80-6a91ce0babe3",
   "metadata": {},
   "outputs": [
    {
     "name": "stdin",
     "output_type": "stream",
     "text": [
      "enter a URL https://www.google.com\n"
     ]
    },
    {
     "name": "stdout",
     "output_type": "stream",
     "text": [
      "URL is valid\n"
     ]
    }
   ],
   "source": [
    "string=input('enter a URL')\n",
    "if string.startswith('https://www.') and string.endswith('.com'):\n",
    "    print('URL is valid')\n",
    "else:\n",
    "    print('URL is invalid')\n",
    "    "
   ]
  },
  {
   "cell_type": "markdown",
   "id": "0f7b6c39-f73d-4bb9-a06d-1315081a7b56",
   "metadata": {},
   "source": [
    "35. Extract the protocol (http or https) from a URL string."
   ]
  },
  {
   "cell_type": "code",
   "execution_count": 2,
   "id": "1c361076-cdaa-45be-acfd-df4ac44b4b6c",
   "metadata": {},
   "outputs": [
    {
     "name": "stdin",
     "output_type": "stream",
     "text": [
      "enter a url http://www.google.com\n"
     ]
    },
    {
     "data": {
      "text/plain": [
       "'http'"
      ]
     },
     "execution_count": 2,
     "metadata": {},
     "output_type": "execute_result"
    }
   ],
   "source": [
    "def extract_protocol():\n",
    "    url=input('enter a url').split('://',)\n",
    "    return url[0]\n",
    "\n",
    "extract_protocol()\n",
    "    \n"
   ]
  },
  {
   "cell_type": "markdown",
   "id": "8b46750e-2bcb-4160-a1da-8b3b4161d078",
   "metadata": {},
   "source": [
    "36. Find the frequency of each character in a string."
   ]
  },
  {
   "cell_type": "code",
   "execution_count": 4,
   "id": "02a8f196-611b-45fe-b85a-db08459883ae",
   "metadata": {},
   "outputs": [
    {
     "data": {
      "text/plain": [
       "{'m': 1,\n",
       " 'a': 3,\n",
       " 'y': 2,\n",
       " 'u': 2,\n",
       " 'r': 1,\n",
       " ' ': 1,\n",
       " 'k': 1,\n",
       " 'c': 1,\n",
       " 'h': 2,\n",
       " 'd': 1,\n",
       " 'i': 1}"
      ]
     },
     "execution_count": 4,
     "metadata": {},
     "output_type": "execute_result"
    }
   ],
   "source": [
    "def frequency_character(input_string):\n",
    "    frequency={}\n",
    "    for char in input_string:\n",
    "        if char in frequency:\n",
    "            frequency[char]+=1\n",
    "        else:\n",
    "            frequency[char]=1\n",
    "    return frequency\n",
    "            \n",
    "frequency_character('mayur kuchhadiya')"
   ]
  },
  {
   "cell_type": "markdown",
   "id": "af39459b-4155-4a73-b62d-091b780e4f05",
   "metadata": {},
   "source": [
    "37. Remove all punctuation from a string."
   ]
  },
  {
   "cell_type": "code",
   "execution_count": 12,
   "id": "28e5d87b-cebd-408f-85d9-e71dea349158",
   "metadata": {},
   "outputs": [
    {
     "data": {
      "text/plain": [
       "'helllo'"
      ]
     },
     "execution_count": 12,
     "metadata": {},
     "output_type": "execute_result"
    }
   ],
   "source": [
    "def remove_punct(input_string):\n",
    "    punc='''~!@#$%^&*()_[]{};:<>'\",./?`'''\n",
    "    for char in input_string:\n",
    "        if char in punc:\n",
    "            input_string=input_string.replace(char,'')\n",
    "            \n",
    "    return input_string\n",
    "\n",
    "remove_punct('hel;l;#%^lo')\n"
   ]
  },
  {
   "cell_type": "markdown",
   "id": "e2364ea2-e991-4683-8b07-7cc5109e81dd",
   "metadata": {},
   "source": [
    "38. Check if a string contains only digits."
   ]
  },
  {
   "cell_type": "code",
   "execution_count": 23,
   "id": "67e4118e-7e22-4782-a128-958c952701fe",
   "metadata": {},
   "outputs": [
    {
     "name": "stdin",
     "output_type": "stream",
     "text": [
      "enter a string hello\n"
     ]
    },
    {
     "data": {
      "text/plain": [
       "False"
      ]
     },
     "execution_count": 23,
     "metadata": {},
     "output_type": "execute_result"
    }
   ],
   "source": [
    "input_string=input('enter a string')\n",
    "input_string.isdigit()\n",
    "    "
   ]
  },
  {
   "cell_type": "markdown",
   "id": "2ba1f3f1-5f94-4530-8f37-b16622cabbf1",
   "metadata": {},
   "source": [
    "39. Check if a string contains only alphabets."
   ]
  },
  {
   "cell_type": "code",
   "execution_count": 24,
   "id": "1a728369-fcf8-41b8-a444-57658af1308d",
   "metadata": {},
   "outputs": [
    {
     "name": "stdin",
     "output_type": "stream",
     "text": [
      "enter a string hello1\n"
     ]
    },
    {
     "data": {
      "text/plain": [
       "False"
      ]
     },
     "execution_count": 24,
     "metadata": {},
     "output_type": "execute_result"
    }
   ],
   "source": [
    "input_string=input('enter a string')\n",
    "input_string.isalpha()"
   ]
  },
  {
   "cell_type": "markdown",
   "id": "1d649a82-ad3b-4759-8606-5960657fc6bd",
   "metadata": {},
   "source": [
    "40. Convert a string to a list of characters."
   ]
  },
  {
   "cell_type": "code",
   "execution_count": 27,
   "id": "cfe54b55-8371-4a2d-af13-5c679b4da816",
   "metadata": {},
   "outputs": [
    {
     "name": "stdin",
     "output_type": "stream",
     "text": [
      "enter a string: my name is mk\n"
     ]
    },
    {
     "data": {
      "text/plain": [
       "['m', 'y', ' ', 'n', 'a', 'm', 'e', ' ', 'i', 's', ' ', 'm', 'k']"
      ]
     },
     "execution_count": 27,
     "metadata": {},
     "output_type": "execute_result"
    }
   ],
   "source": [
    "input_string=input('enter a string:')\n",
    "list(input_string)"
   ]
  },
  {
   "cell_type": "markdown",
   "id": "899cfadb-0be5-47b2-83e4-8347711581f5",
   "metadata": {},
   "source": [
    "41. Check if two strings are anagrams."
   ]
  },
  {
   "cell_type": "code",
   "execution_count": 34,
   "id": "b264f70d-1a49-425d-a14f-c8221b3f67fb",
   "metadata": {},
   "outputs": [
    {
     "data": {
      "text/plain": [
       "True"
      ]
     },
     "execution_count": 34,
     "metadata": {},
     "output_type": "execute_result"
    }
   ],
   "source": [
    "def anagrams_string(string1,string2):\n",
    "    s1=string1.replace(' ','').lower()\n",
    "    s2=string2.replace(' ','').lower()\n",
    "    return sorted(s1)==sorted(s2)\n",
    "    \n",
    "\n",
    "anagrams_string('mayur','ayumr')    "
   ]
  },
  {
   "cell_type": "markdown",
   "id": "45afda57-ee3a-489e-abdf-42c5f1682bba",
   "metadata": {},
   "source": [
    "42. Encode a string using a Caesar cipher."
   ]
  },
  {
   "cell_type": "code",
   "execution_count": 2,
   "id": "3ea66148-7c79-4877-86c1-0025ff88c31d",
   "metadata": {},
   "outputs": [
    {
     "data": {
      "text/plain": [
       "'u'"
      ]
     },
     "execution_count": 2,
     "metadata": {},
     "output_type": "execute_result"
    }
   ],
   "source": [
    "def caesar_cipher(text,shift):\n",
    "    encoded_text=''\n",
    "    for char in text:\n",
    "        if char.isalpha():\n",
    "            encoded_char=chr((ord(char)+shift-ord('a'))%26+ord('a'))\n",
    "        else:\n",
    "            encoded_char+=char\n",
    "    encoded_text+=encoded_char\n",
    "    return encoded_text\n",
    "\n",
    "caesar_cipher('mayur',3)\n",
    "            \n",
    "            \n",
    " "
   ]
  },
  {
   "cell_type": "markdown",
   "id": "c6e88be4-3e7e-4367-8fad-90d705d1d27e",
   "metadata": {},
   "source": [
    "43. Decode a Caesar cipher encoded string."
   ]
  },
  {
   "cell_type": "code",
   "execution_count": null,
   "id": "48ed1ce1-2cf4-431e-924d-f97dfe3ca196",
   "metadata": {},
   "outputs": [],
   "source": [
    "def caesar_cipher(text,shift):\n",
    "    decoded_text=''\n",
    "    for char in text:\n",
    "        if char.isalpha():\n",
    "            decoded_char=chr((ord(char)-shift-ord('a'))%26+ord('a'))\n",
    "        else:\n",
    "            decoded_char+=char\n",
    "    decoded_text+=decoded_char\n",
    "    return decoded_text\n",
    "\n",
    "caesar_cipher('mayur',3)"
   ]
  },
  {
   "cell_type": "markdown",
   "id": "4bd71039-8d22-4fde-8af1-2fc8ad9e17c5",
   "metadata": {},
   "source": [
    "44. Find the most frequent word in a string"
   ]
  },
  {
   "cell_type": "code",
   "execution_count": 6,
   "id": "5089d15d-24cc-43d8-87d3-9a7c2a376d00",
   "metadata": {},
   "outputs": [
    {
     "data": {
      "text/plain": [
       "'my'"
      ]
     },
     "execution_count": 6,
     "metadata": {},
     "output_type": "execute_result"
    }
   ],
   "source": [
    "from statistics import mode\n",
    "string='my name is my mayur'\n",
    "mode([wrd for wrd in string.split()])"
   ]
  },
  {
   "cell_type": "markdown",
   "id": "4dfa621f-2b97-4b66-9615-bfafc61a4327",
   "metadata": {},
   "source": [
    "45. Find all unique words in a string."
   ]
  },
  {
   "cell_type": "code",
   "execution_count": 22,
   "id": "8583dcee-d6be-4db2-8209-6f6ef2048535",
   "metadata": {},
   "outputs": [
    {
     "name": "stdin",
     "output_type": "stream",
     "text": [
      "enter a string = my name is mayur,my course is python!\n"
     ]
    },
    {
     "name": "stdout",
     "output_type": "stream",
     "text": [
      "{'name', 'my', 'python', 'mayurmy', 'course', 'is'}\n"
     ]
    }
   ],
   "source": [
    "import re\n",
    "string=str(input('enter a string ='))\n",
    "output=re.sub(r'[^\\w\\s]', '', string).lower()\n",
    "print(set(output.split()))"
   ]
  },
  {
   "cell_type": "markdown",
   "id": "4f816da6-7c63-42fc-9bc3-58f4b9a4737f",
   "metadata": {},
   "source": [
    "46. Count the number of syllables in a string."
   ]
  },
  {
   "cell_type": "code",
   "execution_count": 5,
   "id": "fb344559-815b-4e8c-8cb3-16e8e767f619",
   "metadata": {},
   "outputs": [
    {
     "name": "stdout",
     "output_type": "stream",
     "text": [
      "The word 'banana' has 3 syllables.\n"
     ]
    }
   ],
   "source": [
    "def count_syllables(word):\n",
    "    vowels = \"aeiouAEIOU\"\n",
    "    count = 0\n",
    "    in_vowel_group = False\n",
    "\n",
    "    for char in word:\n",
    "        if char in vowels:\n",
    "            if not in_vowel_group:\n",
    "                count += 1\n",
    "                in_vowel_group = True\n",
    "        else:\n",
    "            in_vowel_group = False\n",
    "\n",
    "    if word.endswith('e'):\n",
    "        count -= 1\n",
    "\n",
    "\n",
    "    if count == 0:\n",
    "        count = 1\n",
    "\n",
    "    return count\n",
    "\n",
    "\n",
    "word = \"banana\"\n",
    "syllable_count = count_syllables(word)\n",
    "print(f\"The word '{word}' has {syllable_count} syllables.\")\n"
   ]
  },
  {
   "cell_type": "markdown",
   "id": "f9e65a80-e662-4627-af07-b3b4a5bc4848",
   "metadata": {},
   "source": [
    "47. Check if a string contains any special characters."
   ]
  },
  {
   "cell_type": "code",
   "execution_count": 16,
   "id": "2b199e00-2756-4dcf-a9a6-78e27f0dd87b",
   "metadata": {},
   "outputs": [
    {
     "data": {
      "text/plain": [
       "'string contain special character = False'"
      ]
     },
     "execution_count": 16,
     "metadata": {},
     "output_type": "execute_result"
    }
   ],
   "source": [
    "import re\n",
    "def check_string(string):\n",
    "    \n",
    "    pattern=r'[!@#$%^&*()_+{}[\\]:;<>,.?~\\\\\\/\\|]'\n",
    "    check=re.search(pattern,string)\n",
    "    \n",
    "    if check:\n",
    "        return 'string contain special character = True'\n",
    "    else:\n",
    "        return 'string contain special character = False'\n",
    "    \n",
    "check_string('hello')"
   ]
  },
  {
   "cell_type": "markdown",
   "id": "cf3f444e-44f9-4e02-b699-859080751264",
   "metadata": {},
   "source": [
    "48. Remove the nth word from a string"
   ]
  },
  {
   "cell_type": "code",
   "execution_count": 32,
   "id": "261f78c8-7c89-497f-926f-8fb033febca6",
   "metadata": {},
   "outputs": [
    {
     "data": {
      "text/plain": [
       "'hello how you all of you'"
      ]
     },
     "execution_count": 32,
     "metadata": {},
     "output_type": "execute_result"
    }
   ],
   "source": [
    "def remove_word(string,n):\n",
    "    y=string.split()\n",
    "    if n>=len(string):\n",
    "        return 'there is no',n,'word'\n",
    "    else:\n",
    "        y.pop(n-1)\n",
    "        return ' '.join(y)\n",
    "\n",
    "remove_word('hello how are you all of you',3)    "
   ]
  },
  {
   "cell_type": "markdown",
   "id": "ff24bccb-af6c-4407-a0cf-dbfb413355f3",
   "metadata": {},
   "source": [
    "49. Insert a word at the nth position in a string.\n"
   ]
  },
  {
   "cell_type": "code",
   "execution_count": 38,
   "id": "ad6ba6b5-2e11-4808-9f31-a7e11c7da000",
   "metadata": {},
   "outputs": [
    {
     "data": {
      "text/plain": [
       "'hello how are you all of you'"
      ]
     },
     "execution_count": 38,
     "metadata": {},
     "output_type": "execute_result"
    }
   ],
   "source": [
    "def insert_word(string,word,n):\n",
    "    y=string.split()\n",
    "    if n>len(string):\n",
    "        return 'please enter a below position'\n",
    "    else:\n",
    "        y.insert(n-1,word)\n",
    "        return ' '.join(y)\n",
    "\n",
    "insert_word('hello how you all of you','are',3)        "
   ]
  },
  {
   "cell_type": "markdown",
   "id": "07a881fa-83e3-40d6-b2cc-735c9145bcce",
   "metadata": {},
   "source": [
    "50. Convert a CSV string to a list of lists."
   ]
  },
  {
   "cell_type": "code",
   "execution_count": 6,
   "id": "05c757be-f688-4c0d-96b9-07d7854a745c",
   "metadata": {},
   "outputs": [
    {
     "data": {
      "text/plain": [
       "[['my', ' course', ' is', ' of', ' datascience'],\n",
       " [' my', ' mentor', ' is', ' sundhanshu kumar']]"
      ]
     },
     "execution_count": 6,
     "metadata": {},
     "output_type": "execute_result"
    }
   ],
   "source": [
    "def csv_string(csv_str):\n",
    "    try:\n",
    "        output=csv_str.split('\\n')\n",
    "        result=[]\n",
    "        for char in output:\n",
    "            output1=char.split(',')\n",
    "            result.append(output1)\n",
    "        return result\n",
    "    except Exception as e:\n",
    "        print(e)\n",
    "csv_str='my, course, is, of, datascience\\n my, mentor, is, sundhanshu kumar'\n",
    "csv_string(csv_str)"
   ]
  },
  {
   "cell_type": "markdown",
   "id": "6f022ee4-9f97-4d14-bade-e36be4680eca",
   "metadata": {},
   "source": [
    "                                                         List based practice problem"
   ]
  },
  {
   "cell_type": "markdown",
   "id": "242f3f9b-118f-4f02-96a7-39ca6cd24492",
   "metadata": {},
   "source": [
    "1. Create a list with integers from 1 to 10."
   ]
  },
  {
   "cell_type": "code",
   "execution_count": 7,
   "id": "4c4e7b97-7600-498c-9dfb-17265b9f9c55",
   "metadata": {},
   "outputs": [
    {
     "name": "stdout",
     "output_type": "stream",
     "text": [
      "[1, 2, 3, 4, 5, 6, 7, 8, 9, 10]\n"
     ]
    }
   ],
   "source": [
    "list1=[]\n",
    "for i in range(1,11):\n",
    "    list1.append(i)\n",
    "print(list1)"
   ]
  },
  {
   "cell_type": "markdown",
   "id": "d550675a-2e64-4779-8253-53539218eae0",
   "metadata": {},
   "source": [
    "2. Find the length of a list without using the len() function."
   ]
  },
  {
   "cell_type": "code",
   "execution_count": 9,
   "id": "e44a8766-98ca-4304-b830-1482cedab87d",
   "metadata": {},
   "outputs": [
    {
     "data": {
      "text/plain": [
       "9"
      ]
     },
     "execution_count": 9,
     "metadata": {},
     "output_type": "execute_result"
    }
   ],
   "source": [
    "def length(lis):\n",
    "    sum=0\n",
    "    for i in lis:\n",
    "        sum+=1\n",
    "    return sum\n",
    "length([1,2,3,4,5,6,7,8,9])"
   ]
  },
  {
   "cell_type": "markdown",
   "id": "23894aff-c4b4-40d0-94e0-3e6b02559b4a",
   "metadata": {},
   "source": [
    "3. Append an element to the end of a list."
   ]
  },
  {
   "cell_type": "code",
   "execution_count": 10,
   "id": "3708ed62-4aa6-4234-924f-658a26698cf6",
   "metadata": {},
   "outputs": [
    {
     "data": {
      "text/plain": [
       "[1, 2, 3, 4, 5, 6, 'mayur']"
      ]
     },
     "execution_count": 10,
     "metadata": {},
     "output_type": "execute_result"
    }
   ],
   "source": [
    "def append_ele(lis,element):\n",
    "    try:\n",
    "        lis.append(element)\n",
    "        return lis\n",
    "    except Exception as e:\n",
    "        print(e)\n",
    "lis=[1,2,3,4,5,6]\n",
    "element='mayur'\n",
    "append_ele(lis,element)"
   ]
  },
  {
   "cell_type": "markdown",
   "id": "bdb0622a-d9b7-4c4e-a162-f11dc06ad12e",
   "metadata": {},
   "source": [
    "4. Insert an element at a specific index in a list."
   ]
  },
  {
   "cell_type": "code",
   "execution_count": 23,
   "id": "980b4c0c-a39b-4427-9362-3a826aed94cb",
   "metadata": {},
   "outputs": [
    {
     "name": "stdout",
     "output_type": "stream",
     "text": [
      "update list [1, 2, 3, 4, 'mayur', 5, 6, 7]\n"
     ]
    }
   ],
   "source": [
    "lis=[1,2,3,4,5,6,7]\n",
    "element='mayur'\n",
    "index=4\n",
    "lis.insert(index,element)\n",
    "print('update list',lis)"
   ]
  },
  {
   "cell_type": "markdown",
   "id": "3033e202-2e74-4434-8728-1d7009dc2e74",
   "metadata": {},
   "source": [
    "5. Remove an element from a list by its value"
   ]
  },
  {
   "cell_type": "code",
   "execution_count": 24,
   "id": "40f15a2c-3433-40fa-b158-ff6a1b08e830",
   "metadata": {},
   "outputs": [
    {
     "name": "stdout",
     "output_type": "stream",
     "text": [
      "update list [1, 2, 3, 5, 6]\n"
     ]
    }
   ],
   "source": [
    "lis=[1,2,3,4,5,6]\n",
    "value=4\n",
    "lis.remove(value)\n",
    "print('update list',lis)"
   ]
  },
  {
   "cell_type": "markdown",
   "id": "ea281d5a-01b4-4a30-8056-183e1cae6c97",
   "metadata": {},
   "source": [
    "6. Remove an element from a list by its index."
   ]
  },
  {
   "cell_type": "code",
   "execution_count": 22,
   "id": "079976de-30e0-4f53-96ee-245871f73c35",
   "metadata": {},
   "outputs": [
    {
     "name": "stdout",
     "output_type": "stream",
     "text": [
      "update list [1, 2, 3, 4, 6]\n"
     ]
    }
   ],
   "source": [
    "lis=[1,2,3,4,5,6]\n",
    "index=4\n",
    "lis.pop(index)\n",
    "print('update list',lis)"
   ]
  },
  {
   "cell_type": "markdown",
   "id": "f8294142-2089-44a0-a6c5-e8044014f76b",
   "metadata": {},
   "source": [
    "7. Check if an element exists in a list."
   ]
  },
  {
   "cell_type": "code",
   "execution_count": 25,
   "id": "d4008351-eb5c-4fde-aaaa-924cd5cd2865",
   "metadata": {},
   "outputs": [
    {
     "data": {
      "text/plain": [
       "True"
      ]
     },
     "execution_count": 25,
     "metadata": {},
     "output_type": "execute_result"
    }
   ],
   "source": [
    "lis=[1,2,3,4,5,6]\n",
    "def check_list(element):\n",
    "    if element in lis:\n",
    "        return True\n",
    "    else:\n",
    "        return False\n",
    "check_list(4)    "
   ]
  },
  {
   "cell_type": "markdown",
   "id": "846a3fc6-ebb0-495a-b6f2-75aa71153339",
   "metadata": {},
   "source": [
    "8. Find the index of the first occurrence of an element in a list"
   ]
  },
  {
   "cell_type": "code",
   "execution_count": 28,
   "id": "9ea8c886-fe8d-402b-b74a-c2015271f51f",
   "metadata": {},
   "outputs": [
    {
     "name": "stdout",
     "output_type": "stream",
     "text": [
      "index of first occurrence of 3 is 2\n"
     ]
    }
   ],
   "source": [
    "my_list=[1,2,3,2,4,3,8,7,9,5,8]\n",
    "element=3\n",
    "out=my_list.index(element)\n",
    "print(f'index of first occurrence of {element} is {out}')"
   ]
  },
  {
   "cell_type": "markdown",
   "id": "50e6358a-c0c6-43b1-b01d-8750d50a5349",
   "metadata": {},
   "source": [
    "9. Count the occurrences of an element in a list."
   ]
  },
  {
   "cell_type": "code",
   "execution_count": 29,
   "id": "529758a6-b51e-4216-9ff0-1c5168080fb5",
   "metadata": {},
   "outputs": [
    {
     "name": "stdout",
     "output_type": "stream",
     "text": [
      "occurence of 4 is 4\n"
     ]
    }
   ],
   "source": [
    "my_list=[1,2,3,4,5,3,2,4,6,4,2,4]\n",
    "element=4\n",
    "output=my_list.count(element)\n",
    "print(f'occurence of {element} is {output}')"
   ]
  },
  {
   "cell_type": "markdown",
   "id": "8655a46e-76aa-4b66-9a26-e5d17d8e3b8c",
   "metadata": {},
   "source": [
    "10. Reverse the order of elements in a list."
   ]
  },
  {
   "cell_type": "code",
   "execution_count": 30,
   "id": "e314405a-4ba8-40c6-bd64-027de2bc2df0",
   "metadata": {},
   "outputs": [
    {
     "name": "stdout",
     "output_type": "stream",
     "text": [
      "Reverse of my_list is [6, 5, 4, 3, 2, 1]\n"
     ]
    }
   ],
   "source": [
    "my_list=[1,2,3,4,5,6]\n",
    "my_list.reverse()\n",
    "print(f'Reverse of my_list is {my_list}')"
   ]
  },
  {
   "cell_type": "markdown",
   "id": "dc3f11cb-73b0-4d94-b905-0402108b994f",
   "metadata": {},
   "source": [
    "11. Sort a list in ascending order"
   ]
  },
  {
   "cell_type": "code",
   "execution_count": 31,
   "id": "c5fad2c3-41ff-402d-a9fb-8b647a5b7cd6",
   "metadata": {},
   "outputs": [
    {
     "name": "stdout",
     "output_type": "stream",
     "text": [
      "sort of my list is [1, 2, 3, 4, 6, 8, 9]\n"
     ]
    }
   ],
   "source": [
    "my_list=[6,1,2,4,3,9,8]\n",
    "my_list.sort()\n",
    "print(f'sort of my list is {my_list}')"
   ]
  },
  {
   "cell_type": "markdown",
   "id": "307fc988-018d-435b-abce-1eaf3d3d15a1",
   "metadata": {},
   "source": [
    "12. Sort a list in descending order"
   ]
  },
  {
   "cell_type": "code",
   "execution_count": 32,
   "id": "bda421fc-10c6-439b-a2a0-603cb612c5e0",
   "metadata": {},
   "outputs": [
    {
     "name": "stdout",
     "output_type": "stream",
     "text": [
      "my list in descending order is [9, 8, 6, 4, 3, 2, 1]\n"
     ]
    }
   ],
   "source": [
    "my_list=[6,1,2,4,3,9,8]\n",
    "my_list.sort(reverse=True)\n",
    "print(f'my list in descending order is {my_list}')"
   ]
  },
  {
   "cell_type": "markdown",
   "id": "273b8f63-c4a0-4743-995f-e8c614e01273",
   "metadata": {},
   "source": [
    "13. Create a list of even numbers from 1 to 20"
   ]
  },
  {
   "cell_type": "code",
   "execution_count": 35,
   "id": "0ce78432-08d5-423c-8861-89b32b59cccd",
   "metadata": {},
   "outputs": [
    {
     "name": "stdout",
     "output_type": "stream",
     "text": [
      "list of even number is [2, 4, 6, 8, 10, 12, 14, 16, 18, 20]\n"
     ]
    }
   ],
   "source": [
    "my_list=[i for i in range(1,21) if i%2==0]\n",
    "print(f'list of even number is {my_list}')"
   ]
  },
  {
   "cell_type": "markdown",
   "id": "785b687a-30f2-4d96-8d27-c3268c815764",
   "metadata": {},
   "source": [
    "14. Create a list of odd numbers from 1 to 20."
   ]
  },
  {
   "cell_type": "code",
   "execution_count": 36,
   "id": "a29bc641-777f-4abd-a2b4-ea2fc1b48338",
   "metadata": {},
   "outputs": [
    {
     "name": "stdout",
     "output_type": "stream",
     "text": [
      "list of odd number is [1, 3, 5, 7, 9, 11, 13, 15, 17, 19]\n"
     ]
    }
   ],
   "source": [
    "my_list=[i for i in range(1,21) if i%2!=0]\n",
    "print(f'list of odd number is {my_list}')"
   ]
  },
  {
   "cell_type": "markdown",
   "id": "891eb684-1d09-4915-9dc6-bbbd6dfe10a3",
   "metadata": {},
   "source": [
    "15. Find the sum of all elements in a list."
   ]
  },
  {
   "cell_type": "code",
   "execution_count": 39,
   "id": "ed276893-92ab-41f2-a959-eea724aacf5c",
   "metadata": {},
   "outputs": [
    {
     "name": "stdout",
     "output_type": "stream",
     "text": [
      "sum of my list is = 36\n"
     ]
    }
   ],
   "source": [
    "my_list=[1,2,3,4,5,6,7,8]\n",
    "sum_list=sum(my_list)\n",
    "print(f'sum of my list is = {sum_list}')\n"
   ]
  },
  {
   "cell_type": "markdown",
   "id": "b699de8e-d40b-408d-8cbb-d8f4e56c6ba2",
   "metadata": {},
   "source": [
    "16. Find the maximum value in a list"
   ]
  },
  {
   "cell_type": "code",
   "execution_count": 40,
   "id": "2ebccf4f-0cdd-440f-aeb6-51e35a4a64cf",
   "metadata": {},
   "outputs": [
    {
     "name": "stdout",
     "output_type": "stream",
     "text": [
      "maximum value of my list is = 8\n"
     ]
    }
   ],
   "source": [
    "my_list=[1,2,3,4,5,6,7,8]\n",
    "sum_list=max(my_list)\n",
    "print(f'maximum value of my list is = {sum_list}')\n"
   ]
  },
  {
   "cell_type": "markdown",
   "id": "140b2653-976c-43e6-960e-d8297cda6b3a",
   "metadata": {},
   "source": [
    "17. Find the minimum value in a list."
   ]
  },
  {
   "cell_type": "code",
   "execution_count": 41,
   "id": "ef2eef52-775c-4ca8-ba03-59228973d1cf",
   "metadata": {},
   "outputs": [
    {
     "name": "stdout",
     "output_type": "stream",
     "text": [
      "minimum value of my list is = 1\n"
     ]
    }
   ],
   "source": [
    "my_list=[1,2,3,4,5,6,7,8]\n",
    "sum_list=min(my_list)\n",
    "print(f'minimum value of my list is = {sum_list}')"
   ]
  },
  {
   "cell_type": "markdown",
   "id": "a8e16526-0e66-4ec3-b411-d84db27b6e5a",
   "metadata": {},
   "source": [
    "18. Create a list of squares of numbers from 1 to 10.\n"
   ]
  },
  {
   "cell_type": "code",
   "execution_count": 42,
   "id": "bbb77f30-bc60-49e3-a0bb-4cb87b815c82",
   "metadata": {},
   "outputs": [
    {
     "name": "stdout",
     "output_type": "stream",
     "text": [
      "[1, 4, 9, 16, 25, 36, 49, 64, 81, 100]\n"
     ]
    }
   ],
   "source": [
    "my_list=[i**2 for i in range(1,11)]\n",
    "print(my_list)"
   ]
  },
  {
   "cell_type": "markdown",
   "id": "7afa2747-fdf8-476c-b8e8-ceb22a78231a",
   "metadata": {},
   "source": [
    "19. Create a list of random numbers."
   ]
  },
  {
   "cell_type": "code",
   "execution_count": 49,
   "id": "1b869749-152f-4e0a-8e2a-050aec8d3863",
   "metadata": {},
   "outputs": [
    {
     "name": "stdout",
     "output_type": "stream",
     "text": [
      "list of random number id [95, 90, 41, 34, 78, 8, 20, 47, 19, 100]\n"
     ]
    }
   ],
   "source": [
    "import random\n",
    "my_list=[random.randint(1, 100) for _ in range(10)]\n",
    "print(f'list of random number id {my_list}')"
   ]
  },
  {
   "cell_type": "markdown",
   "id": "f1d64d51-fb3c-48a0-bc09-4a8d0a1a926e",
   "metadata": {},
   "source": [
    "20. Remove duplicates from a list"
   ]
  },
  {
   "cell_type": "code",
   "execution_count": 54,
   "id": "7c29d7b2-c907-4695-b1bd-eaf442332242",
   "metadata": {},
   "outputs": [
    {
     "name": "stdout",
     "output_type": "stream",
     "text": [
      "modified list is[1, 2, 3, 4, 5, 6, 8]\n"
     ]
    }
   ],
   "source": [
    "my_list=[1,2,3,2,4,6,5,3,8,1,2]\n",
    "output=list(set(my_list))\n",
    "print(f'modified list is{output}')"
   ]
  },
  {
   "cell_type": "markdown",
   "id": "f6a53597-f142-4232-bf21-7adfaa8c9990",
   "metadata": {},
   "source": [
    "21. Find the common elements between two lists.\n"
   ]
  },
  {
   "cell_type": "code",
   "execution_count": 55,
   "id": "af6aa76a-9360-4032-87b5-1f49bac0887a",
   "metadata": {},
   "outputs": [
    {
     "name": "stdout",
     "output_type": "stream",
     "text": [
      "list of common elements is [1, 2, 3]\n"
     ]
    }
   ],
   "source": [
    "list1=[1,2,3,4,5,6]\n",
    "list2=[2,3,8,9,1,7]\n",
    "output=[i for i in list1 if i in list2]\n",
    "print(f'list of common elements is {output}')"
   ]
  },
  {
   "cell_type": "markdown",
   "id": "8b5649c4-6acd-4367-9521-965aba1a31a3",
   "metadata": {},
   "source": [
    "22. Find the difference between two lists.\n"
   ]
  },
  {
   "cell_type": "code",
   "execution_count": 58,
   "id": "85121ea7-3462-4f3e-93ba-739b657231d2",
   "metadata": {},
   "outputs": [
    {
     "name": "stdout",
     "output_type": "stream",
     "text": [
      "list of difference elements is [4, 5, 6]\n"
     ]
    }
   ],
   "source": [
    "list1=[1,2,3,4,5,6]\n",
    "list2=[2,3,8,9,1,7]\n",
    "output=[i for i in list1 if i not in list2]\n",
    "print(f'list of difference elements is {output}')"
   ]
  },
  {
   "cell_type": "markdown",
   "id": "b7a54691-3384-4b2f-a104-10e68addf889",
   "metadata": {},
   "source": [
    "23. Merge two lists"
   ]
  },
  {
   "cell_type": "code",
   "execution_count": 62,
   "id": "3210074a-199b-4fa2-905f-a9b911c32458",
   "metadata": {},
   "outputs": [
    {
     "name": "stdout",
     "output_type": "stream",
     "text": [
      "merge of two list is [1, 2, 3, 4, 5, 5, 6, 7, 8, 9]\n"
     ]
    }
   ],
   "source": [
    "\n",
    "list1=[1,2,3,4,5]\n",
    "list2=[5,6,7,8,9]\n",
    "output=list1+list2\n",
    "print(f'merge of two list is {output}')"
   ]
  },
  {
   "cell_type": "markdown",
   "id": "987c44e1-bc7d-4e99-baa7-adc5e2e70f02",
   "metadata": {},
   "source": [
    "24. Multiply all elements in a list by 2."
   ]
  },
  {
   "cell_type": "code",
   "execution_count": 64,
   "id": "4f00a559-490b-48e4-8c6f-0e10fb4bc25b",
   "metadata": {},
   "outputs": [
    {
     "name": "stdout",
     "output_type": "stream",
     "text": [
      "updated list is [2, 4, 6, 8, 10]\n"
     ]
    }
   ],
   "source": [
    "my_list=[1,2,3,4,5]\n",
    "output=[i*2 for i in my_list]\n",
    "print(f'updated list is {output}')"
   ]
  },
  {
   "cell_type": "markdown",
   "id": "8aa22dca-fccf-44b0-b8a8-0398003d13da",
   "metadata": {},
   "source": [
    "25. Filter out all even numbers from a list."
   ]
  },
  {
   "cell_type": "code",
   "execution_count": 65,
   "id": "23f88c6c-a9cb-4d9c-892f-400102aa4e8d",
   "metadata": {},
   "outputs": [
    {
     "name": "stdout",
     "output_type": "stream",
     "text": [
      "filterd list: [2, 4, 6]\n"
     ]
    }
   ],
   "source": [
    "my_list=[1,2,3,4,5,6]\n",
    "output=[i for i in my_list if i%2==0]\n",
    "print('filterd list:',output)"
   ]
  },
  {
   "cell_type": "markdown",
   "id": "dd5d89f4-ef80-44f6-936b-7732ca55ef7e",
   "metadata": {},
   "source": [
    "26. Convert a list of strings to a list of integers."
   ]
  },
  {
   "cell_type": "code",
   "execution_count": 67,
   "id": "06ee9019-d667-488c-95d4-9e899f8e4a4d",
   "metadata": {},
   "outputs": [
    {
     "name": "stdout",
     "output_type": "stream",
     "text": [
      "list of integers is: [1, 2, 3, 4, 5]\n"
     ]
    }
   ],
   "source": [
    "my_list=['1','2','3','4','5']\n",
    "output=[int(i) for i in my_list]\n",
    "print('list of integers is:',output)"
   ]
  },
  {
   "cell_type": "markdown",
   "id": "c5967c4e-5b4e-4872-86d6-a21a6c121d0e",
   "metadata": {},
   "source": [
    "27. Convert a list of integers to a list of strings."
   ]
  },
  {
   "cell_type": "code",
   "execution_count": 68,
   "id": "bf505af4-c8e6-4c9f-a919-33036aeba8e0",
   "metadata": {},
   "outputs": [
    {
     "name": "stdout",
     "output_type": "stream",
     "text": [
      "list of strings is: ['1', '2', '3', '4', '5', '6']\n"
     ]
    }
   ],
   "source": [
    "my_list=[1,2,3,4,5,6]\n",
    "output=[str(i) for i in my_list]\n",
    "print('list of strings is:',output)"
   ]
  },
  {
   "cell_type": "markdown",
   "id": "7ab66913-d111-446d-9a00-6441796c5816",
   "metadata": {},
   "source": [
    "28. Flatten a nested list"
   ]
  },
  {
   "cell_type": "code",
   "execution_count": 73,
   "id": "ed138730-8358-4302-82db-f2689dc889af",
   "metadata": {},
   "outputs": [
    {
     "data": {
      "text/plain": [
       "[1, 2, 3, 4, 5, 6, 7, 8, 9]"
      ]
     },
     "execution_count": 73,
     "metadata": {},
     "output_type": "execute_result"
    }
   ],
   "source": [
    "my_list=[[1,2,3],[4,5,6],[7,8,9]]\n",
    "\n",
    "def flatten_list(my_list):\n",
    "    lis=[]\n",
    "    for i in my_list:\n",
    "        if isinstance(i, list):\n",
    "            lis.extend(flatten_list(i))\n",
    "        else:\n",
    "            lis.append(i)\n",
    "    return lis\n",
    "flatten_list(my_list)"
   ]
  },
  {
   "cell_type": "markdown",
   "id": "e584bd5b-da34-4f3d-ac03-a45ce0bba461",
   "metadata": {},
   "source": [
    "29. Create a list of the first 10 Fibonacci numbers.\n"
   ]
  },
  {
   "cell_type": "code",
   "execution_count": 80,
   "id": "b1cf6f04-69aa-4733-8885-78ab77d3ba97",
   "metadata": {},
   "outputs": [
    {
     "data": {
      "text/plain": [
       "[0, 1, 1, 2, 3, 5, 8, 13, 21, 34]"
      ]
     },
     "execution_count": 80,
     "metadata": {},
     "output_type": "execute_result"
    }
   ],
   "source": [
    "def fibonacci_list(n):\n",
    "    fibonacci=[0,1]\n",
    "    for i in range(2,n):\n",
    "        output=fibonacci[i-1]+fibonacci[i-2]\n",
    "        fibonacci.append(output)\n",
    "    return fibonacci\n",
    "fibonacci_list(10)        "
   ]
  },
  {
   "cell_type": "markdown",
   "id": "8815664f-dffb-409d-8280-6404d60f9c65",
   "metadata": {},
   "source": [
    "30. Check if a list is sorted."
   ]
  },
  {
   "cell_type": "code",
   "execution_count": 83,
   "id": "d65910bf-1a76-4962-a20e-d6ee8f92c756",
   "metadata": {},
   "outputs": [
    {
     "data": {
      "text/plain": [
       "False"
      ]
     },
     "execution_count": 83,
     "metadata": {},
     "output_type": "execute_result"
    }
   ],
   "source": [
    "def check_list(lis):\n",
    "    for i in range(1,len(lis)):\n",
    "        if lis[i]<lis[i-1]:\n",
    "            return False\n",
    "    return True\n",
    "lis=[1,2,3,5,4,6]\n",
    "check_list(lis)"
   ]
  },
  {
   "cell_type": "markdown",
   "id": "13da6911-a94a-4192-958d-5e8b124c2ec7",
   "metadata": {},
   "source": [
    "31. Rotate a list to the left by `n` positions"
   ]
  },
  {
   "cell_type": "code",
   "execution_count": 84,
   "id": "3cf2cc7e-36dc-496f-aee6-6c164a963416",
   "metadata": {},
   "outputs": [
    {
     "data": {
      "text/plain": [
       "[3, 4, 5, 6, 1, 2]"
      ]
     },
     "execution_count": 84,
     "metadata": {},
     "output_type": "execute_result"
    }
   ],
   "source": [
    "def rotate_list(lis,n):\n",
    "    n = n % len(lis) \n",
    "    rotated_lst = lis[n:] + lis[:n]\n",
    "    return rotated_lst\n",
    "\n",
    "rotate_list([1,2,3,4,5,6],2)"
   ]
  },
  {
   "cell_type": "markdown",
   "id": "3a90a4af-99be-4790-9b17-bc2bac26e6b3",
   "metadata": {},
   "source": [
    "32. Rotate a list to the right by `n` positions.\n"
   ]
  },
  {
   "cell_type": "code",
   "execution_count": 90,
   "id": "2cc4f7c2-436b-498d-b591-312c16ca0cda",
   "metadata": {},
   "outputs": [
    {
     "data": {
      "text/plain": [
       "[5, 6, 1, 2, 3, 4]"
      ]
     },
     "execution_count": 90,
     "metadata": {},
     "output_type": "execute_result"
    }
   ],
   "source": [
    "def rotate_list(lis,n):\n",
    "    n = n%len(lis)\n",
    "    rotated_lst = lis[-n:] + lis[:-n]\n",
    "    return rotated_lst\n",
    "\n",
    "rotate_list([1,2,3,4,5,6],2)\n"
   ]
  },
  {
   "cell_type": "markdown",
   "id": "33316150-d992-4e6f-8f89-82f6fe027805",
   "metadata": {},
   "source": [
    "33. Create a list of prime numbers up to 50."
   ]
  },
  {
   "cell_type": "code",
   "execution_count": 96,
   "id": "ed104cd2-c7a3-436d-973b-b2833d767e5c",
   "metadata": {},
   "outputs": [
    {
     "name": "stdout",
     "output_type": "stream",
     "text": [
      "[2, 3, 5, 7, 11, 13, 17, 19, 23, 29, 31, 37, 41, 43, 47]\n"
     ]
    }
   ],
   "source": [
    "def is_prime(num):\n",
    "    if num < 2:\n",
    "        return False\n",
    "    for i in range(2, int(num**0.5) + 1):\n",
    "        if num % i == 0:\n",
    "            return False\n",
    "    return True\n",
    "\n",
    "prime_numbers = [num for num in range(2, 51) if is_prime(num)]\n",
    "\n",
    "print(prime_numbers)\n"
   ]
  },
  {
   "cell_type": "markdown",
   "id": "3a2f7c0f-41aa-4fca-bbc9-5201510443e4",
   "metadata": {},
   "source": [
    "34. Split a list into chunks of size `n`."
   ]
  },
  {
   "cell_type": "code",
   "execution_count": 3,
   "id": "c1ab9415-6be9-491e-ae73-3cd48779e559",
   "metadata": {},
   "outputs": [
    {
     "name": "stdout",
     "output_type": "stream",
     "text": [
      "[[1, 2, 3], [4, 5, 6], [7, 8, 9]]\n"
     ]
    }
   ],
   "source": [
    "def split_list_into_chunks(input_list, n):\n",
    "    for i in range(0, len(input_list), n):\n",
    "        yield input_list[i:i + n]\n",
    "\n",
    "my_list = [1, 2, 3, 4, 5, 6, 7, 8, 9]\n",
    "chunk_size = 3\n",
    "chunks = list(split_list_into_chunks(my_list, chunk_size))\n",
    "print(chunks)\n"
   ]
  },
  {
   "cell_type": "markdown",
   "id": "8480f343-ca15-4ba2-8033-f16c164fa02c",
   "metadata": {},
   "source": [
    "35. Find the second largest number in a list.\n"
   ]
  },
  {
   "cell_type": "code",
   "execution_count": 2,
   "id": "4ae05241-6696-4f41-baa1-cbd941720c78",
   "metadata": {},
   "outputs": [
    {
     "data": {
      "text/plain": [
       "89"
      ]
     },
     "execution_count": 2,
     "metadata": {},
     "output_type": "execute_result"
    }
   ],
   "source": [
    "my_list=[1,89,45,26,11,103,45]\n",
    "\n",
    "def second_largest(my_list):\n",
    "    my_list.sort()\n",
    "    n=len(my_list)\n",
    "    return my_list[n-2]\n",
    "second_largest(my_list)"
   ]
  },
  {
   "cell_type": "markdown",
   "id": "4597e9df-e55f-426b-92da-756b7c08ed27",
   "metadata": {},
   "source": [
    "36. Replace every element in a list with its square"
   ]
  },
  {
   "cell_type": "code",
   "execution_count": 4,
   "id": "5f6a2899-37cb-4709-aebc-4e2d728c09de",
   "metadata": {},
   "outputs": [
    {
     "name": "stdout",
     "output_type": "stream",
     "text": [
      "list with its square is [1, 4, 9, 16, 25, 36]\n"
     ]
    }
   ],
   "source": [
    "my_list=[1,2,3,4,5,6]\n",
    "output=[i**2 for i in my_list]\n",
    "print(f'list with its square is {output}')"
   ]
  },
  {
   "cell_type": "markdown",
   "id": "a9364e20-0501-4b2c-ae39-ab2050a8634c",
   "metadata": {},
   "source": [
    "37. Convert a list to a dictionary where list elements become keys and their\n",
    "indices become values.\n"
   ]
  },
  {
   "cell_type": "code",
   "execution_count": 6,
   "id": "ee6cb99b-eac2-463b-afc9-d25399dc6e9a",
   "metadata": {},
   "outputs": [
    {
     "name": "stdout",
     "output_type": "stream",
     "text": [
      "{'mayur': 0, 'pw': 1, 'skills': 2, 'dsa': 3}\n"
     ]
    }
   ],
   "source": [
    "my_list=['mayur','pw','skills','dsa']\n",
    "my_dict = {element: index for index, element in enumerate(my_list)}\n",
    "print(my_dict)"
   ]
  },
  {
   "cell_type": "markdown",
   "id": "ce67feb5-bbce-4461-9b91-1a285b784ffd",
   "metadata": {},
   "source": [
    "38. Shuffle the elements of a list randomly.\n"
   ]
  },
  {
   "cell_type": "code",
   "execution_count": 11,
   "id": "29f7c4fa-a547-485e-9125-54b0dbedcc39",
   "metadata": {},
   "outputs": [
    {
     "name": "stdout",
     "output_type": "stream",
     "text": [
      "[16, 14, 13, 12, 19, 17, 20, 15, 11, 18]\n"
     ]
    }
   ],
   "source": [
    "import random\n",
    "my_list=[11,12,13,14,15,16,17,18,19,20]\n",
    "random.shuffle(my_list)\n",
    "print(my_list)"
   ]
  },
  {
   "cell_type": "markdown",
   "id": "62fde33d-1e73-4bef-9b49-ea0af7d6b9ea",
   "metadata": {},
   "source": [
    "39. Create a list of the first 10 factorial numbers."
   ]
  },
  {
   "cell_type": "code",
   "execution_count": 12,
   "id": "ac415095-16b5-41b7-bf37-98d12cdd078f",
   "metadata": {},
   "outputs": [
    {
     "name": "stdout",
     "output_type": "stream",
     "text": [
      "first 10 factorial list = [1, 1, 2, 6, 24, 120, 720, 5040, 40320, 362880, 3628800]\n"
     ]
    }
   ],
   "source": [
    "def factorial(n):\n",
    "    if n==0 or n==1:\n",
    "        return 1\n",
    "    else:\n",
    "        return n*factorial(n-1)\n",
    "    \n",
    "factorial_list=[factorial(i) for i in range(11)]\n",
    "\n",
    "print('first 10 factorial list =',factorial_list)"
   ]
  },
  {
   "cell_type": "markdown",
   "id": "69638dcb-cc00-4f3f-a732-82dcbdcc02ee",
   "metadata": {},
   "source": [
    "40. Check if two lists have at least one element in common."
   ]
  },
  {
   "cell_type": "code",
   "execution_count": 13,
   "id": "7e26decf-447b-4917-b16e-30c2722f7b76",
   "metadata": {},
   "outputs": [
    {
     "data": {
      "text/plain": [
       "False"
      ]
     },
     "execution_count": 13,
     "metadata": {},
     "output_type": "execute_result"
    }
   ],
   "source": [
    "def check_lists(my_list1,my_list2):\n",
    "    for item in my_list1:\n",
    "        if item in my_list2:\n",
    "            return True\n",
    "    return False\n",
    "\n",
    "\n",
    "my_list1=[1,2,3,4,5,6]\n",
    "my_list2=[7,8,9,10]\n",
    "check_lists(my_list1,my_list2)"
   ]
  },
  {
   "cell_type": "markdown",
   "id": "ea1bfd9e-50c5-4348-a401-986cfb1a58f1",
   "metadata": {},
   "source": [
    "41. Remove all elements from a list"
   ]
  },
  {
   "cell_type": "code",
   "execution_count": 15,
   "id": "71ddb328-96dd-4dcd-96a7-49dff541d8bd",
   "metadata": {},
   "outputs": [
    {
     "name": "stdout",
     "output_type": "stream",
     "text": [
      "empty list: []\n"
     ]
    }
   ],
   "source": [
    "my_list=[1,2,3,4,5,6,7,8,9]\n",
    "my_list.clear()\n",
    "print('empty list:',my_list)"
   ]
  },
  {
   "cell_type": "markdown",
   "id": "6cb05889-4dcc-42b2-a74e-f2815035940f",
   "metadata": {},
   "source": [
    "42. Replace negative numbers in a list with 0."
   ]
  },
  {
   "cell_type": "code",
   "execution_count": 20,
   "id": "26e9dc06-2286-425d-8cd3-68f8ceca43b6",
   "metadata": {},
   "outputs": [
    {
     "name": "stdout",
     "output_type": "stream",
     "text": [
      "updated list: [1, 2, 0, 4, 0, 6]\n"
     ]
    }
   ],
   "source": [
    "def check_neg(lis):\n",
    "    for i in range(len(lis)):\n",
    "        if lis[i]<0:\n",
    "            lis[i]=0\n",
    "    return lis\n",
    "        \n",
    "lis=[1,2,-3,4,-5,6]\n",
    "print('updated list:',check_neg(lis))"
   ]
  },
  {
   "cell_type": "markdown",
   "id": "a563610c-67e8-4160-83ca-e584967225ea",
   "metadata": {},
   "source": [
    "43. Convert a string into a list of words."
   ]
  },
  {
   "cell_type": "code",
   "execution_count": 21,
   "id": "a973a0bf-92bc-4603-bc2f-d4aaafadd5f6",
   "metadata": {},
   "outputs": [
    {
     "name": "stdout",
     "output_type": "stream",
     "text": [
      "list of words : ['my', 'course', 'is', 'full', 'stack', 'data', 'science', 'pro']\n"
     ]
    }
   ],
   "source": [
    "string='my course is full stack data science pro'\n",
    "lis=string.split()\n",
    "print('list of words :',lis)"
   ]
  },
  {
   "cell_type": "markdown",
   "id": "766ac2c8-bdc6-4302-8fd3-da67cbeddf1a",
   "metadata": {},
   "source": [
    "44. Convert a list of words into a string."
   ]
  },
  {
   "cell_type": "code",
   "execution_count": 24,
   "id": "4854029c-a57e-44a9-97e5-1e9e080eedb2",
   "metadata": {},
   "outputs": [
    {
     "name": "stdout",
     "output_type": "stream",
     "text": [
      "string of list is: my course is full stack data science pro\n"
     ]
    }
   ],
   "source": [
    "from functools import reduce\n",
    "lis=['my', 'course', 'is', 'full', 'stack', 'data', 'science', 'pro']\n",
    "output=' '.join(lis)\n",
    "print('string of list is:',output)"
   ]
  },
  {
   "cell_type": "markdown",
   "id": "2195c436-997f-4236-8ad4-d46f6c6508fb",
   "metadata": {},
   "source": [
    "45. Create a list of the first `n` powers of 2."
   ]
  },
  {
   "cell_type": "code",
   "execution_count": 27,
   "id": "3751c132-8a92-457a-938f-3ab3f160c956",
   "metadata": {},
   "outputs": [
    {
     "name": "stdout",
     "output_type": "stream",
     "text": [
      "list of first 10 powers of 2 is [1, 2, 4, 8, 16, 32, 64, 128, 256, 512, 1024]\n"
     ]
    }
   ],
   "source": [
    "n=10\n",
    "lis=[2**i for i in range(n+1)]\n",
    "print(f'list of first {n} powers of 2 is {lis}')"
   ]
  },
  {
   "cell_type": "markdown",
   "id": "b0a28f3c-ecd9-4edf-8b5c-1c9003131f39",
   "metadata": {},
   "source": [
    "46. Find the longest string in a list of strings."
   ]
  },
  {
   "cell_type": "code",
   "execution_count": 29,
   "id": "a536cb8b-790f-4184-97e2-0e1bf1cfeb1f",
   "metadata": {},
   "outputs": [
    {
     "name": "stdout",
     "output_type": "stream",
     "text": [
      "longest string is pwskills\n"
     ]
    }
   ],
   "source": [
    "lis=['hello','how','are','you','pwskills']\n",
    "longest_string=''\n",
    "for i in lis:\n",
    "    if len(i)>len(longest_string):\n",
    "        longest_string=i\n",
    "\n",
    "print('longest string is',longest_string)"
   ]
  },
  {
   "cell_type": "markdown",
   "id": "9581d4eb-f2ef-409f-8e93-182004e1b106",
   "metadata": {},
   "source": [
    "47. Find the shortest string in a list of strings."
   ]
  },
  {
   "cell_type": "code",
   "execution_count": 30,
   "id": "dabaab7a-c651-4525-ad3a-8e4122a980df",
   "metadata": {},
   "outputs": [
    {
     "name": "stdout",
     "output_type": "stream",
     "text": [
      "shortest string is is\n"
     ]
    }
   ],
   "source": [
    "lis=['hello','how','are','is','you','pwskills']\n",
    "shortest_string=lis[0]\n",
    "for i in lis:\n",
    "    if len(i)<len(shortest_string):\n",
    "        shortest_string=i\n",
    "\n",
    "print('shortest string is',shortest_string)"
   ]
  },
  {
   "cell_type": "markdown",
   "id": "46bf63c9-1cb8-489c-97aa-8e6cdb463f58",
   "metadata": {},
   "source": [
    "48. Create a list of the first `n` triangular numbers."
   ]
  },
  {
   "cell_type": "code",
   "execution_count": 32,
   "id": "06c2e240-7d5a-45fe-b846-c3181931eb6d",
   "metadata": {},
   "outputs": [
    {
     "name": "stdout",
     "output_type": "stream",
     "text": [
      "List of the first 10 triangular numbers: [1, 3, 6, 10, 15, 21, 28, 36, 45, 55]\n"
     ]
    }
   ],
   "source": [
    "def triangular_numbers(n):\n",
    "    return [i * (i + 1) // 2 for i in range(1, n+1)] \n",
    "n = 10\n",
    "triangular_list = triangular_numbers(n)\n",
    "\n",
    "print(\"List of the first\", n, \"triangular numbers:\", triangular_list)"
   ]
  },
  {
   "cell_type": "markdown",
   "id": "09b0e766-9bc9-4588-8b50-b517dc246594",
   "metadata": {},
   "source": [
    "49. Check if a list contains another list as a subsequence.\n"
   ]
  },
  {
   "cell_type": "code",
   "execution_count": 34,
   "id": "7d98977c-14aa-4980-8350-c5013c9dfdc0",
   "metadata": {},
   "outputs": [
    {
     "data": {
      "text/plain": [
       "True"
      ]
     },
     "execution_count": 34,
     "metadata": {},
     "output_type": "execute_result"
    }
   ],
   "source": [
    "def is_subsequence(subsequence, my_list):\n",
    "    subseq_index = 0  \n",
    "    for element in my_list:\n",
    "        if element == subsequence[subseq_index]:\n",
    "            subseq_index += 1\n",
    "            if subseq_index == len(subsequence):\n",
    "                return True\n",
    "    return False\n",
    "\n",
    "my_list=[1,2,3,4,5,6,7]\n",
    "subsequence=[3,6,7]\n",
    "is_subsequence(subsequence,my_list)"
   ]
  },
  {
   "cell_type": "markdown",
   "id": "d86ebaa7-1b72-497a-9d19-62b48b845ad4",
   "metadata": {},
   "source": [
    "50. Swap two elements in a list by their indices."
   ]
  },
  {
   "cell_type": "code",
   "execution_count": 2,
   "id": "1fd25f4c-be7d-4e77-be91-2a8f75bc9141",
   "metadata": {},
   "outputs": [
    {
     "name": "stdout",
     "output_type": "stream",
     "text": [
      "[1, 2, 4, 3, 5, 6, 7]\n"
     ]
    }
   ],
   "source": [
    "my_list=[1,2,3,4,5,6,7]\n",
    "index1=2\n",
    "index2=3\n",
    "\n",
    "x=my_list[index1]\n",
    "my_list[index1]=my_list[index2]\n",
    "my_list[index2]=x\n",
    "\n",
    "print(my_list)"
   ]
  },
  {
   "cell_type": "markdown",
   "id": "614ff55e-4a23-4f4d-8af2-d8156997f35a",
   "metadata": {},
   "source": [
    "                                           Tuple Based Practice Problem :"
   ]
  },
  {
   "cell_type": "markdown",
   "id": "6ecb18fb-1f3e-448e-877e-f12ec315bf91",
   "metadata": {},
   "source": [
    "1. Create a tuple with integers from 1 to 5."
   ]
  },
  {
   "cell_type": "code",
   "execution_count": 5,
   "id": "f5f0ccc3-ce7e-4c16-9851-0130f44e3fd3",
   "metadata": {},
   "outputs": [
    {
     "data": {
      "text/plain": [
       "(1, 2, 3, 4, 5)"
      ]
     },
     "execution_count": 5,
     "metadata": {},
     "output_type": "execute_result"
    }
   ],
   "source": [
    "tuple([i for i in range(1,6)])"
   ]
  },
  {
   "cell_type": "markdown",
   "id": "d1790e05-f374-4ca0-8361-d825c64c4754",
   "metadata": {},
   "source": [
    "2. Access the third element of a tuple."
   ]
  },
  {
   "cell_type": "code",
   "execution_count": 8,
   "id": "4f3cc765-97df-4b07-ad88-1a5bcfb15700",
   "metadata": {},
   "outputs": [
    {
     "name": "stdout",
     "output_type": "stream",
     "text": [
      "third element of tuple is  3\n"
     ]
    }
   ],
   "source": [
    "tup=(1,2,3,4,5,6,7)\n",
    "third_element=tup[2]\n",
    "print('third element of tuple is ',third_element)"
   ]
  },
  {
   "cell_type": "markdown",
   "id": "c3066ad1-9ef7-431f-b800-ae1df3778a21",
   "metadata": {},
   "source": [
    "3. Find the length of a tuple without using the `len()` function."
   ]
  },
  {
   "cell_type": "code",
   "execution_count": 9,
   "id": "f13989dd-3bb3-4b9b-bbbb-8f1690212cfe",
   "metadata": {},
   "outputs": [
    {
     "name": "stdout",
     "output_type": "stream",
     "text": [
      "the length of tuple is  7\n"
     ]
    }
   ],
   "source": [
    "tup=(1,2,3,4,5,6,7)\n",
    "\n",
    "length=0\n",
    "for i in tup:\n",
    "    length+=1\n",
    "    \n",
    "print('the length of tuple is ',length)"
   ]
  },
  {
   "cell_type": "markdown",
   "id": "90b4cc57-64d8-4d15-8586-dca710397c22",
   "metadata": {},
   "source": [
    "4. Count the occurrences of an element in a tuple"
   ]
  },
  {
   "cell_type": "code",
   "execution_count": 10,
   "id": "65f589d6-2923-4d90-97f6-ab8ab04f6dda",
   "metadata": {},
   "outputs": [
    {
     "name": "stdout",
     "output_type": "stream",
     "text": [
      "occurrences of 2 in tuple is  3\n"
     ]
    }
   ],
   "source": [
    "tup=(1,2,3,2,4,5,2,6)\n",
    "output=tup.count(2)\n",
    "print('occurrences of 2 in tuple is ',output)"
   ]
  },
  {
   "cell_type": "markdown",
   "id": "c9a1b27d-01e7-483a-ae5f-e4762374c3ad",
   "metadata": {},
   "source": [
    "5. Find the index of the first occurrence of an element in a tuple."
   ]
  },
  {
   "cell_type": "code",
   "execution_count": 11,
   "id": "b48e6c6b-9dd4-4701-addf-025431ea010b",
   "metadata": {},
   "outputs": [
    {
     "name": "stdout",
     "output_type": "stream",
     "text": [
      "index of first occurrences of 2 in tuple is  1\n"
     ]
    }
   ],
   "source": [
    "tup=(1,2,3,2,4,5,2,6)\n",
    "output=tup.index(2)\n",
    "print('index of first occurrences of 2 in tuple is ',output)"
   ]
  },
  {
   "cell_type": "markdown",
   "id": "c0f98e19-351f-48b7-9764-526954796613",
   "metadata": {},
   "source": [
    "6. Check if an element exists in a tuple."
   ]
  },
  {
   "cell_type": "code",
   "execution_count": 12,
   "id": "cabd797d-a576-4cb3-96be-e25e98828d8c",
   "metadata": {},
   "outputs": [
    {
     "name": "stdout",
     "output_type": "stream",
     "text": [
      "element exits in tuple\n"
     ]
    }
   ],
   "source": [
    "tup=(1,2,3,4,5,6)\n",
    "element=3\n",
    "if element in tup:\n",
    "    print('element exits in tuple')\n",
    "else:\n",
    "    print('element does not exit in tuple')\n"
   ]
  },
  {
   "cell_type": "markdown",
   "id": "69ef2e26-0c4e-46b6-9650-f4924902c213",
   "metadata": {},
   "source": [
    "7. Convert a tuple to a list.\n"
   ]
  },
  {
   "cell_type": "code",
   "execution_count": 13,
   "id": "b996b730-9b02-4d79-9c97-ca2199de2cfd",
   "metadata": {},
   "outputs": [
    {
     "name": "stdout",
     "output_type": "stream",
     "text": [
      "list of tuple = [1, 2, 3, 4, 5]\n"
     ]
    }
   ],
   "source": [
    "tup=(1,2,3,4,5)\n",
    "\n",
    "print('list of tuple =',list(tup))"
   ]
  },
  {
   "cell_type": "markdown",
   "id": "ffce8a6e-6866-49db-900c-ebbc495db392",
   "metadata": {},
   "source": [
    "8. Convert a list to a tuple"
   ]
  },
  {
   "cell_type": "code",
   "execution_count": 14,
   "id": "14ea6dd7-955c-488b-a2a1-d8af42c2609c",
   "metadata": {},
   "outputs": [
    {
     "name": "stdout",
     "output_type": "stream",
     "text": [
      "tuple of list = (1, 2, 3, 4, 5, 6)\n"
     ]
    }
   ],
   "source": [
    "lis=[1,2,3,4,5,6]\n",
    "\n",
    "print('tuple of list =',tuple(lis))"
   ]
  },
  {
   "cell_type": "markdown",
   "id": "f17491f4-b98f-4621-9612-5d6eefb20a01",
   "metadata": {},
   "source": [
    "9. Unpack the elements of a tuple into variables"
   ]
  },
  {
   "cell_type": "code",
   "execution_count": 18,
   "id": "f312e97d-5e40-4a8f-8afb-f94b52850ec5",
   "metadata": {},
   "outputs": [
    {
     "name": "stdout",
     "output_type": "stream",
     "text": [
      "variables in tuple are  1 2 3\n"
     ]
    }
   ],
   "source": [
    "tup=(1,2,3)\n",
    "    \n",
    "var1,var2,var3=tup\n",
    "\n",
    "print('variables in tuple are ',var1,var2,var3)"
   ]
  },
  {
   "cell_type": "markdown",
   "id": "e7403042-315b-412a-958d-855806a50451",
   "metadata": {},
   "source": [
    "10. Create a tuple of even numbers from 1 to 10"
   ]
  },
  {
   "cell_type": "code",
   "execution_count": 19,
   "id": "9f6ac903-e485-4ad9-8102-caed1dec88ac",
   "metadata": {},
   "outputs": [
    {
     "name": "stdout",
     "output_type": "stream",
     "text": [
      "tuple of even number from 1 to 10 is  (0, 2, 4, 6, 8, 10)\n"
     ]
    }
   ],
   "source": [
    "tup=tuple([i for i in range(11) if i%2==0])\n",
    "\n",
    "print('tuple of even number from 1 to 10 is ',tup)"
   ]
  },
  {
   "cell_type": "markdown",
   "id": "02d86907-6358-4c65-b2f0-7d9a24bdaab1",
   "metadata": {},
   "source": [
    "11. Create a tuple of odd numbers from 1 to 10."
   ]
  },
  {
   "cell_type": "code",
   "execution_count": 20,
   "id": "c68abd7f-1dad-4adc-b98b-81949713ed2f",
   "metadata": {},
   "outputs": [
    {
     "name": "stdout",
     "output_type": "stream",
     "text": [
      "tuple of odd number from 1 to 10 is  (1, 3, 5, 7, 9)\n"
     ]
    }
   ],
   "source": [
    "tup=tuple([i for i in range(11) if i%2!=0])\n",
    "\n",
    "print('tuple of odd number from 1 to 10 is ',tup)"
   ]
  },
  {
   "cell_type": "markdown",
   "id": "979d6c10-40eb-4410-8a21-949aef643050",
   "metadata": {},
   "source": [
    "12. Concatenate two tuples."
   ]
  },
  {
   "cell_type": "code",
   "execution_count": 21,
   "id": "f863cc38-25f9-41d6-9b44-a0c13c820f8b",
   "metadata": {},
   "outputs": [
    {
     "name": "stdout",
     "output_type": "stream",
     "text": [
      "concatenate of tup1 and tup2 is  (1, 2, 3, 4, 5, 6, 7)\n"
     ]
    }
   ],
   "source": [
    "tup1=(1,2,3,4)\n",
    "tup2=(5,6,7)\n",
    "\n",
    "print('concatenate of tup1 and tup2 is ',tup1+tup2)"
   ]
  },
  {
   "cell_type": "markdown",
   "id": "e1544497-67ff-4a26-a1f4-25021be95506",
   "metadata": {},
   "source": [
    "13. Repeat a tuple three times"
   ]
  },
  {
   "cell_type": "code",
   "execution_count": 22,
   "id": "c7e907c2-c976-490f-bf49-7c8031acf746",
   "metadata": {},
   "outputs": [
    {
     "name": "stdout",
     "output_type": "stream",
     "text": [
      "3 times of tup is  (1, 2, 3, 1, 2, 3, 1, 2, 3)\n"
     ]
    }
   ],
   "source": [
    "tup=(1,2,3)\n",
    "\n",
    "print('3 times of tup is ',tup*3)"
   ]
  },
  {
   "cell_type": "markdown",
   "id": "b7450855-5180-4a04-a51c-64c93f0bba61",
   "metadata": {},
   "source": [
    "14. Check if a tuple is empty.\n"
   ]
  },
  {
   "cell_type": "code",
   "execution_count": 23,
   "id": "ad451129-6bb9-43a6-819e-c0606d38ae9d",
   "metadata": {},
   "outputs": [
    {
     "name": "stdout",
     "output_type": "stream",
     "text": [
      "tuple is not empty\n"
     ]
    }
   ],
   "source": [
    "tup=(1,2,3,4,5,6)\n",
    "\n",
    "empty_tup=()\n",
    "\n",
    "if tup==empty_tup:\n",
    "    print('tuple is empty')\n",
    "else :\n",
    "    print('tuple is not empty')"
   ]
  },
  {
   "cell_type": "markdown",
   "id": "5b99fcaa-3ebc-441d-925d-7a13145542be",
   "metadata": {},
   "source": [
    "15. Create a nested tuple"
   ]
  },
  {
   "cell_type": "code",
   "execution_count": 24,
   "id": "a3d1b0e5-3b48-4787-a6b5-321ebda4ba71",
   "metadata": {},
   "outputs": [
    {
     "name": "stdout",
     "output_type": "stream",
     "text": [
      "nested tuple : (1, 2, 3, 4, (5, 6, 7))\n"
     ]
    }
   ],
   "source": [
    "tup=(1,2,3,4,(5,6,7))\n",
    "\n",
    "print('nested tuple :',tup)"
   ]
  },
  {
   "cell_type": "markdown",
   "id": "3b073714-25f9-4000-a2b7-8ce9a72695e9",
   "metadata": {},
   "source": [
    "16. Access the first element of a nested tuple."
   ]
  },
  {
   "cell_type": "code",
   "execution_count": 26,
   "id": "1f9f6abc-1c85-4226-825d-7d1cf191c202",
   "metadata": {},
   "outputs": [
    {
     "name": "stdout",
     "output_type": "stream",
     "text": [
      "first element nested_tup is  (1, 2, 3)\n"
     ]
    }
   ],
   "source": [
    "nested_tup=((1,2,3),(4,5,6),(7,8,9))\n",
    "\n",
    "print('first element nested_tup is ',nested_tup[0] )"
   ]
  },
  {
   "cell_type": "markdown",
   "id": "706f393d-07d9-4d5a-87fc-374adde8b249",
   "metadata": {},
   "source": [
    "17. Create a tuple with a single element."
   ]
  },
  {
   "cell_type": "code",
   "execution_count": 31,
   "id": "37502a71-b58f-4058-b807-2f9e5a9ba738",
   "metadata": {},
   "outputs": [
    {
     "name": "stdout",
     "output_type": "stream",
     "text": [
      "tuple with a single element is : (1,)\n"
     ]
    }
   ],
   "source": [
    "tup=(1,)\n",
    "\n",
    "print('tuple with a single element is :',tup)"
   ]
  },
  {
   "cell_type": "markdown",
   "id": "1f7c9279-5020-4dc9-be7a-46bb111ddbc0",
   "metadata": {},
   "source": [
    "18. Compare two tuples."
   ]
  },
  {
   "cell_type": "code",
   "execution_count": 28,
   "id": "750da983-188d-4e3f-94e6-cb5bf4100cdd",
   "metadata": {},
   "outputs": [
    {
     "name": "stdout",
     "output_type": "stream",
     "text": [
      "tuple1 == tuple2: False\n",
      "tuple1 != tuple2: True\n",
      "tuple1 < tuple2: False\n",
      "tuple1 <= tuple2: False\n",
      "tuple1 > tuple2: True\n",
      "tuple1 >= tuple2: True\n"
     ]
    }
   ],
   "source": [
    "tuple1=(2,3,5)\n",
    "tuple2=(1,3,5)\n",
    "\n",
    "print(\"tuple1 == tuple2:\", tuple1 == tuple2)  \n",
    "print(\"tuple1 != tuple2:\", tuple1 != tuple2)  \n",
    "print(\"tuple1 < tuple2:\", tuple1 < tuple2)    \n",
    "print(\"tuple1 <= tuple2:\", tuple1 <= tuple2)  \n",
    "print(\"tuple1 > tuple2:\", tuple1 > tuple2)   \n",
    "print(\"tuple1 >= tuple2:\", tuple1 >= tuple2)  "
   ]
  },
  {
   "cell_type": "markdown",
   "id": "7955ae46-d18a-4229-a6cc-1529402aef3f",
   "metadata": {},
   "source": [
    "19. Delete a tuple.\n"
   ]
  },
  {
   "cell_type": "code",
   "execution_count": 33,
   "id": "d40c54e4-dba9-457c-99f5-2558b595f209",
   "metadata": {},
   "outputs": [
    {
     "ename": "NameError",
     "evalue": "name 'tup' is not defined",
     "output_type": "error",
     "traceback": [
      "\u001b[0;31m---------------------------------------------------------------------------\u001b[0m",
      "\u001b[0;31mNameError\u001b[0m                                 Traceback (most recent call last)",
      "Cell \u001b[0;32mIn[33], line 4\u001b[0m\n\u001b[1;32m      1\u001b[0m tup\u001b[38;5;241m=\u001b[39m(\u001b[38;5;241m1\u001b[39m,\u001b[38;5;241m2\u001b[39m,\u001b[38;5;241m3\u001b[39m)\n\u001b[1;32m      3\u001b[0m \u001b[38;5;28;01mdel\u001b[39;00m(tup)\n\u001b[0;32m----> 4\u001b[0m \u001b[38;5;28mprint\u001b[39m(\u001b[38;5;124m'\u001b[39m\u001b[38;5;124mi delete the tuple\u001b[39m\u001b[38;5;124m'\u001b[39m,\u001b[43mtup\u001b[49m)\n",
      "\u001b[0;31mNameError\u001b[0m: name 'tup' is not defined"
     ]
    }
   ],
   "source": [
    "tup=(1,2,3)\n",
    "\n",
    "del(tup)\n",
    "print('i delete the tuple',tup)"
   ]
  },
  {
   "cell_type": "markdown",
   "id": "571a8e3c-e35c-4a80-bfff-6021a63e0bf7",
   "metadata": {},
   "source": [
    "20. Slice a tuple"
   ]
  },
  {
   "cell_type": "code",
   "execution_count": 36,
   "id": "3b07ec5b-a75a-4417-b93b-6fa6984806a7",
   "metadata": {},
   "outputs": [
    {
     "name": "stdout",
     "output_type": "stream",
     "text": [
      "slice of tuple is: (4, 5, 6)\n"
     ]
    }
   ],
   "source": [
    "tup=(1,2,3,4,5,6)\n",
    "\n",
    "print('slice of tuple is:',tup[3:6])"
   ]
  },
  {
   "cell_type": "markdown",
   "id": "d5020fd6-8fc4-469b-b4f2-a9abbad7f90a",
   "metadata": {},
   "source": [
    "21. Find the maximum value in a tuple"
   ]
  },
  {
   "cell_type": "code",
   "execution_count": 37,
   "id": "9da68d2f-7115-497c-a4ae-2058aa6fd051",
   "metadata": {},
   "outputs": [
    {
     "name": "stdout",
     "output_type": "stream",
     "text": [
      "the maximum value in tuple is  6\n"
     ]
    }
   ],
   "source": [
    "tup=(1,2,3,4,5,6)\n",
    "\n",
    "print('the maximum value in tuple is ',max(tup))"
   ]
  },
  {
   "cell_type": "markdown",
   "id": "2e8ffdda-a2ee-483c-bf34-dbccb5050b24",
   "metadata": {},
   "source": [
    "22. Find the minimum value in a tuple"
   ]
  },
  {
   "cell_type": "code",
   "execution_count": 38,
   "id": "ab96d9a4-1254-4432-89a7-e1fdc592b503",
   "metadata": {},
   "outputs": [
    {
     "name": "stdout",
     "output_type": "stream",
     "text": [
      "the minimum value in tuple is  1\n"
     ]
    }
   ],
   "source": [
    "tup=(1,2,3,4,5,6)\n",
    "\n",
    "print('the minimum value in tuple is ',min(tup))"
   ]
  },
  {
   "cell_type": "markdown",
   "id": "83d8f4f7-04e6-4c21-9fc1-d6c6ec0f9aae",
   "metadata": {},
   "source": [
    "23. Convert a string to a tuple of characters."
   ]
  },
  {
   "cell_type": "code",
   "execution_count": 2,
   "id": "6ee2451d-454c-427b-8c05-a91d34ed70fd",
   "metadata": {},
   "outputs": [
    {
     "name": "stdout",
     "output_type": "stream",
     "text": [
      "tuple of string character : ('m', 'a', 'y', 'u', 'r')\n"
     ]
    }
   ],
   "source": [
    "string='mayur'\n",
    "\n",
    "print('tuple of string character :',tuple(string))"
   ]
  },
  {
   "cell_type": "markdown",
   "id": "519fea5a-2eb8-4151-86d2-b974d82bc73e",
   "metadata": {},
   "source": [
    "24. Convert a tuple of characters to a string.\n"
   ]
  },
  {
   "cell_type": "code",
   "execution_count": 4,
   "id": "d8398fb4-e787-47d0-b87a-5f13532da397",
   "metadata": {},
   "outputs": [
    {
     "name": "stdout",
     "output_type": "stream",
     "text": [
      "string of tuple is: mayur\n"
     ]
    }
   ],
   "source": [
    "tup=('m','a','y','u','r')\n",
    "string=''.join(tup)\n",
    "print('string of tuple is:',string)"
   ]
  },
  {
   "cell_type": "markdown",
   "id": "c04339ed-2883-48ac-88f0-07d47a4dd829",
   "metadata": {},
   "source": [
    "25. Create a tuple from multiple data types.\n"
   ]
  },
  {
   "cell_type": "code",
   "execution_count": 5,
   "id": "1d45ea18-3987-4140-b871-a4443ccc0068",
   "metadata": {},
   "outputs": [
    {
     "name": "stdout",
     "output_type": "stream",
     "text": [
      "tuple of multiple data is  ('mayur', 5, 5.4, True, [1, 2, 3])\n"
     ]
    }
   ],
   "source": [
    "tup=('mayur',5,5.4,True,[1,2,3])\n",
    "\n",
    "print('tuple of multiple data is ',tup)"
   ]
  },
  {
   "cell_type": "markdown",
   "id": "8294a368-23c5-4aac-a5c6-0ab8d96fb71c",
   "metadata": {},
   "source": [
    "26. Check if two tuples are identical."
   ]
  },
  {
   "cell_type": "code",
   "execution_count": 6,
   "id": "f0759cfe-7515-494c-9112-d9a6c363422c",
   "metadata": {},
   "outputs": [
    {
     "name": "stdout",
     "output_type": "stream",
     "text": [
      "is tuple1 and tuple2 are identical  True\n"
     ]
    }
   ],
   "source": [
    "tuple1=(1,2,3)\n",
    "tuple2=(1,2,3)\n",
    "\n",
    "identical=tuple1==tuple2\n",
    "\n",
    "print('is tuple1 and tuple2 are identical ',identical)"
   ]
  },
  {
   "cell_type": "markdown",
   "id": "ad8ea7e6-0d19-475e-95a3-634ace73bdde",
   "metadata": {},
   "source": [
    "27. Sort the elements of a tuple."
   ]
  },
  {
   "cell_type": "code",
   "execution_count": 8,
   "id": "0dc377b5-c68c-4330-ae41-a5325ddc5255",
   "metadata": {},
   "outputs": [
    {
     "name": "stdout",
     "output_type": "stream",
     "text": [
      "sorted tuple: (1, 1, 2, 2, 3, 4, 5, 6)\n"
     ]
    }
   ],
   "source": [
    "tup=(1,2,3,2,4,5,1,6)\n",
    "sort_tuple=tuple(sorted(tup))\n",
    "\n",
    "print('sorted tuple:',sort_tuple)"
   ]
  },
  {
   "cell_type": "markdown",
   "id": "17c722a8-2a2d-4ab8-81df-7840e0c90567",
   "metadata": {},
   "source": [
    "28. Convert a tuple of integers to a tuple of strings"
   ]
  },
  {
   "cell_type": "code",
   "execution_count": 9,
   "id": "b4727e10-3580-4b14-a6a0-7b6450a1d18e",
   "metadata": {},
   "outputs": [
    {
     "name": "stdout",
     "output_type": "stream",
     "text": [
      "tupple of string: ('1', '2', '3', '4', '5', '6')\n"
     ]
    }
   ],
   "source": [
    "tup=(1,2,3,4,5,6)\n",
    "tup_str=tuple([str(i) for i in tup])\n",
    "\n",
    "print('tupple of string:',tup_str)"
   ]
  },
  {
   "cell_type": "markdown",
   "id": "94c3e84c-f140-4fa8-a684-7bfe2592e82a",
   "metadata": {},
   "source": [
    "29. Convert a tuple of strings to a tuple of integers."
   ]
  },
  {
   "cell_type": "code",
   "execution_count": 10,
   "id": "7f97b9e7-884f-4653-bd4b-b378365aae84",
   "metadata": {},
   "outputs": [
    {
     "name": "stdout",
     "output_type": "stream",
     "text": [
      "tuple of integer: (1, 2, 3, 4, 5)\n"
     ]
    }
   ],
   "source": [
    "tup=('1','2','3','4','5')\n",
    "tup_int=tuple(int(i) for i in tup)\n",
    "\n",
    "print('tuple of integer:',tup_int)"
   ]
  },
  {
   "cell_type": "markdown",
   "id": "e0dabec4-3f08-4622-9873-68043dfb5e28",
   "metadata": {},
   "source": [
    "30. Merge two tuples."
   ]
  },
  {
   "cell_type": "code",
   "execution_count": 12,
   "id": "9a4df448-4eb8-402e-8158-c5cde5e8ffe5",
   "metadata": {},
   "outputs": [
    {
     "name": "stdout",
     "output_type": "stream",
     "text": [
      "merge of tuple1 and tuple2 is (1, 2, 3, 4, 'mayur', 5, 6)\n"
     ]
    }
   ],
   "source": [
    "tup1=(1,2,3,4)\n",
    "tup2=('mayur',5,6)\n",
    "\n",
    "print('merge of tuple1 and tuple2 is',tup1+tup2)"
   ]
  },
  {
   "cell_type": "markdown",
   "id": "b4e0b739-bdef-4c46-86ea-a600a51b9a5f",
   "metadata": {},
   "source": [
    "31. Flatten a nested tuple."
   ]
  },
  {
   "cell_type": "code",
   "execution_count": 13,
   "id": "dfee03f4-225d-40cf-9600-90e17043ebd0",
   "metadata": {},
   "outputs": [
    {
     "name": "stdout",
     "output_type": "stream",
     "text": [
      "flatten tuple: (1, 2, 3, 4, 5, 6)\n"
     ]
    }
   ],
   "source": [
    "def flatten_tup(tup):\n",
    "    flatten_lis=[]\n",
    "    for item in tup:\n",
    "        if isinstance(item, tuple):\n",
    "            flatten_lis.extend(flatten_tup(item))\n",
    "        else:\n",
    "            flatten_lis.append(item)\n",
    "    return flatten_lis\n",
    "\n",
    "\n",
    "tup=((1,2,3),(4,5,6))\n",
    "flatten_tuple=tuple(flatten_tup(tup))\n",
    "print('flatten tuple:',flatten_tuple)"
   ]
  },
  {
   "cell_type": "markdown",
   "id": "eb60f90f-71f0-49a9-8f8c-2176bd167c7d",
   "metadata": {},
   "source": [
    "32. Create a tuple of the first 5 prime numbers.\n"
   ]
  },
  {
   "cell_type": "code",
   "execution_count": 15,
   "id": "193df837-c9bd-4c4f-ae4b-208d445d19f0",
   "metadata": {},
   "outputs": [
    {
     "name": "stdout",
     "output_type": "stream",
     "text": [
      "tuple of first 5 prime number is: (2, 3, 5, 7, 11)\n"
     ]
    }
   ],
   "source": [
    "def is_prime(num):\n",
    "    if num <= 1:\n",
    "        return False\n",
    "    for i in range(2, int(num ** 0.5) + 1):\n",
    "        if num % i == 0:\n",
    "            return False\n",
    "    return True\n",
    "\n",
    "prime_numbers_list = [num for num in range(2, 100) if is_prime(num)][:5]\n",
    "\n",
    "print('tuple of first 5 prime number is:',tuple(prime_numbers_list))"
   ]
  },
  {
   "cell_type": "markdown",
   "id": "94ae7cef-edd5-4ba4-9738-375cc4605e5e",
   "metadata": {},
   "source": [
    "33. Check if a tuple is a palindrome."
   ]
  },
  {
   "cell_type": "code",
   "execution_count": 18,
   "id": "996ff019-49bc-4dd7-a8cd-86fa6dcfd5b4",
   "metadata": {},
   "outputs": [
    {
     "name": "stdout",
     "output_type": "stream",
     "text": [
      "tuple is palindrome\n"
     ]
    }
   ],
   "source": [
    "tup=(1,2,3,2,1)\n",
    "\n",
    "if tup==tup[::-1]:\n",
    "    print('tuple is palindrome')\n",
    "else:\n",
    "    print('tuple is not palindrome')"
   ]
  },
  {
   "cell_type": "markdown",
   "id": "52ada193-1575-4ffb-bd4a-72e704277d63",
   "metadata": {},
   "source": [
    "34. Create a tuple of squares of numbers from 1 to 5."
   ]
  },
  {
   "cell_type": "code",
   "execution_count": 19,
   "id": "5136e7f9-84d5-4242-a90a-4f98cdfb090f",
   "metadata": {},
   "outputs": [
    {
     "name": "stdout",
     "output_type": "stream",
     "text": [
      "tuple of squares of numbers from 1 to 5 is: (1, 4, 9, 16, 25)\n"
     ]
    }
   ],
   "source": [
    "tup=tuple(i**2 for i in range(1,6))\n",
    "\n",
    "print('tuple of squares of numbers from 1 to 5 is:',tup)"
   ]
  },
  {
   "cell_type": "markdown",
   "id": "963f1682-c207-447b-abf1-d9f057d344b7",
   "metadata": {},
   "source": [
    "35. Filter out all even numbers from a tuple"
   ]
  },
  {
   "cell_type": "code",
   "execution_count": 20,
   "id": "f2bf1ba3-6594-4bea-a3a5-0b2a7bae9870",
   "metadata": {},
   "outputs": [
    {
     "name": "stdout",
     "output_type": "stream",
     "text": [
      "filtered tuple: (2, 4, 6, 8)\n"
     ]
    }
   ],
   "source": [
    "tup=(1,2,3,4,5,6,7,8,9)\n",
    "\n",
    "even_tup=tuple(i for i in tup if i%2==0)\n",
    "print('filtered tuple:',even_tup)"
   ]
  },
  {
   "cell_type": "markdown",
   "id": "15de29d0-ca3c-4405-8d39-033d123ee443",
   "metadata": {},
   "source": [
    "36. Multiply all elements in a tuple by 2"
   ]
  },
  {
   "cell_type": "code",
   "execution_count": 22,
   "id": "da6cf58b-ca27-4d06-97a4-1d321e55f027",
   "metadata": {},
   "outputs": [
    {
     "name": "stdout",
     "output_type": "stream",
     "text": [
      "filtered tuple: (2, 4, 6, 8, 10, 12, 14, 16, 18)\n"
     ]
    }
   ],
   "source": [
    "tup=(1,2,3,4,5,6,7,8,9)\n",
    "\n",
    "double_tup=tuple(i*2 for i in tup)\n",
    "print('filtered tuple:',double_tup)"
   ]
  },
  {
   "cell_type": "markdown",
   "id": "677e5db2-bb2b-4480-a19a-bd87280950c9",
   "metadata": {},
   "source": [
    "37. Create a tuple of random numbers"
   ]
  },
  {
   "cell_type": "code",
   "execution_count": 23,
   "id": "69acb62c-5020-45cb-a513-bc61a0bbe4af",
   "metadata": {},
   "outputs": [
    {
     "name": "stdout",
     "output_type": "stream",
     "text": [
      "tuple of random number is  (40, 1, 5, 91, 18, 75, 48, 97, 21, 22, 60, 58, 40, 67, 25)\n"
     ]
    }
   ],
   "source": [
    "import random\n",
    "\n",
    "random_tup=tuple(random.randint(1,100) for _ in range(15))\n",
    "print('tuple of random number is ',random_tup)"
   ]
  },
  {
   "cell_type": "markdown",
   "id": "f37b492c-9c95-4038-b408-1b94aee6333b",
   "metadata": {},
   "source": [
    "38. Check if a tuple is sorted."
   ]
  },
  {
   "cell_type": "code",
   "execution_count": 27,
   "id": "f7caba76-aba7-4081-834b-6f1afb588031",
   "metadata": {},
   "outputs": [
    {
     "name": "stdout",
     "output_type": "stream",
     "text": [
      "tuple is not sorted\n"
     ]
    }
   ],
   "source": [
    "tup=(1,2,3,5,4,6)\n",
    "\n",
    "if tup==tuple(sorted(tup)):\n",
    "    print('tuple is sorted')\n",
    "else:\n",
    "    print('tuple is not sorted')"
   ]
  },
  {
   "cell_type": "markdown",
   "id": "fc59c2a0-4056-480c-aa18-5b8c6ac578c1",
   "metadata": {},
   "source": [
    "39. Rotate a tuple to the left by `n` positions."
   ]
  },
  {
   "cell_type": "code",
   "execution_count": 32,
   "id": "c8426d57-7759-4bd7-bfe1-17228a38bd15",
   "metadata": {},
   "outputs": [
    {
     "name": "stdout",
     "output_type": "stream",
     "text": [
      "tuple after left by 3 position is: (4, 5, 6, 7, 8, 1, 2, 3)\n"
     ]
    }
   ],
   "source": [
    "def rotate_tuple(tup,n):\n",
    "    return tup[n:]+tup[:n]\n",
    "\n",
    "tup=(1,2,3,4,5,6,7,8)\n",
    "n=3\n",
    "print(f'tuple after left by {n} position is: {rotate_tuple(tup,n)}')"
   ]
  },
  {
   "cell_type": "markdown",
   "id": "ebe3c68f-e6b5-4ada-8009-ebf78b74004a",
   "metadata": {},
   "source": [
    "40. Rotate a tuple to the right by `n` positions."
   ]
  },
  {
   "cell_type": "code",
   "execution_count": 33,
   "id": "34014af2-d924-474b-a872-063c28a05ca3",
   "metadata": {},
   "outputs": [
    {
     "name": "stdout",
     "output_type": "stream",
     "text": [
      "tuple after right by 3 position is: (6, 7, 8, 1, 2, 3, 4, 5)\n"
     ]
    }
   ],
   "source": [
    "def rotate_tuple(tup,n):\n",
    "    return tup[-n:]+tup[:-n]\n",
    "\n",
    "tup=(1,2,3,4,5,6,7,8)\n",
    "n=3\n",
    "print(f'tuple after right by {n} position is: {rotate_tuple(tup,n)}')"
   ]
  },
  {
   "cell_type": "markdown",
   "id": "cc2e6cbc-c837-44a1-a62d-75ae464e0989",
   "metadata": {},
   "source": [
    "41. Create a tuple of the first 5 Fibonacci numbers.\n"
   ]
  },
  {
   "cell_type": "code",
   "execution_count": 1,
   "id": "2371006f-a17d-463a-8e0a-5b3759e211b8",
   "metadata": {},
   "outputs": [
    {
     "name": "stdout",
     "output_type": "stream",
     "text": [
      "fibonacci of first 5 number is: (0, 1, 1, 2, 3)\n"
     ]
    }
   ],
   "source": [
    "def generate_fibonacci(n):\n",
    "    fibonacci = [0, 1]  \n",
    "    while len(fibonacci) < n: \n",
    "        next_number = fibonacci[-1] + fibonacci[-2]  \n",
    "        fibonacci.append(next_number) \n",
    "    return tuple(fibonacci) \n",
    "\n",
    "n=5\n",
    "print('fibonacci of first 5 number is:',generate_fibonacci(n))"
   ]
  },
  {
   "cell_type": "markdown",
   "id": "068c078a-3387-47f6-9c7f-0315e57c4d99",
   "metadata": {},
   "source": [
    "42. Create a tuple from user input."
   ]
  },
  {
   "cell_type": "code",
   "execution_count": 1,
   "id": "c1cef56c-d09f-4a6f-964a-696b78344bd3",
   "metadata": {},
   "outputs": [
    {
     "name": "stdin",
     "output_type": "stream",
     "text": [
      "Enter elements separated by commas:  1,2,mayur,pw,skills\n"
     ]
    },
    {
     "name": "stdout",
     "output_type": "stream",
     "text": [
      "User input tuple: ('1', '2', 'mayur', 'pw', 'skills')\n"
     ]
    }
   ],
   "source": [
    "input_str = input(\"Enter elements separated by commas: \")\n",
    "input_list = input_str.split(',')\n",
    "\n",
    "user_tuple = tuple(input_list)\n",
    "\n",
    "print(\"User input tuple:\", user_tuple)"
   ]
  },
  {
   "cell_type": "markdown",
   "id": "54992e87-1d77-44cf-9287-97fb7236010c",
   "metadata": {},
   "source": [
    "43. Swap two elements in a tuple.\n"
   ]
  },
  {
   "cell_type": "code",
   "execution_count": 6,
   "id": "9dd3d97b-7f92-4a4b-8155-a407bf2a0ac9",
   "metadata": {},
   "outputs": [
    {
     "name": "stdout",
     "output_type": "stream",
     "text": [
      "tuple after swapping index 3 and 4 is (1, 2, 3, 5, 4, 6)\n"
     ]
    }
   ],
   "source": [
    "tup=(1,2,3,4,5,6)\n",
    "lis=list(tup)\n",
    "\n",
    "index1=3\n",
    "index2=4\n",
    "\n",
    "x=lis[index1]\n",
    "lis[index1]=lis[index2]\n",
    "lis[index2]=x\n",
    "\n",
    "print(f'tuple after swapping index {index1} and {index2} is {tuple(lis)}')"
   ]
  },
  {
   "cell_type": "markdown",
   "id": "a9166e4b-9e64-452e-9901-c7a9525e17d1",
   "metadata": {},
   "source": [
    "44. Reverse the elements of a tuple.\n"
   ]
  },
  {
   "cell_type": "code",
   "execution_count": 7,
   "id": "fe26cee8-ad57-472f-9882-b03842eb0ab4",
   "metadata": {},
   "outputs": [
    {
     "name": "stdout",
     "output_type": "stream",
     "text": [
      "reverse tuple: (6, 5, 4, 3, 2, 1)\n"
     ]
    }
   ],
   "source": [
    "tup=(1,2,3,4,5,6)\n",
    "reverse_tup=tup[::-1]\n",
    "\n",
    "print('reverse tuple:',reverse_tup)"
   ]
  },
  {
   "cell_type": "markdown",
   "id": "6b1ee7eb-1e77-4397-aced-8d2c0ad79f2b",
   "metadata": {},
   "source": [
    "45. Create a tuple of the first `n` powers of 2."
   ]
  },
  {
   "cell_type": "code",
   "execution_count": 10,
   "id": "32f84412-32d2-46d4-9664-b8545fc71ce6",
   "metadata": {},
   "outputs": [
    {
     "name": "stdout",
     "output_type": "stream",
     "text": [
      "tuple of first 5 powers of 2 is (1, 2, 4, 8, 16)\n"
     ]
    }
   ],
   "source": [
    "n=5\n",
    "tup=tuple((2**n for n in range(n)))\n",
    "print(f'tuple of first {n} powers of 2 is {tup}')"
   ]
  },
  {
   "cell_type": "markdown",
   "id": "cfb65084-f76f-46f9-97af-917f6e5fcd04",
   "metadata": {},
   "source": [
    "46. Find the longest string in a tuple of strings"
   ]
  },
  {
   "cell_type": "code",
   "execution_count": 13,
   "id": "5d2a1644-fe0c-42b6-846d-56181a056f68",
   "metadata": {},
   "outputs": [
    {
     "name": "stdout",
     "output_type": "stream",
     "text": [
      "longest sting in tuple is: skills\n"
     ]
    }
   ],
   "source": [
    "tup=('mayur','pw','skills','dsa')\n",
    "\n",
    "print('longest sting in tuple is:',max(tup,key=len))"
   ]
  },
  {
   "cell_type": "markdown",
   "id": "48ea6dd9-5d32-4331-bed7-97ba2a1a1ce0",
   "metadata": {},
   "source": [
    "47. Find the shortest string in a tuple of strings."
   ]
  },
  {
   "cell_type": "code",
   "execution_count": 14,
   "id": "461565c2-1597-4844-9e89-4343e3ce8499",
   "metadata": {},
   "outputs": [
    {
     "name": "stdout",
     "output_type": "stream",
     "text": [
      "shortest sting in tuple is: pw\n"
     ]
    }
   ],
   "source": [
    "tup=('mayur','pw','skills','dsa')\n",
    "\n",
    "print('shortest sting in tuple is:',min(tup,key=len))"
   ]
  },
  {
   "cell_type": "markdown",
   "id": "ce97debd-0728-478c-b3ef-ba15ca2b6314",
   "metadata": {},
   "source": [
    "48. Create a tuple of the first `n` triangular numbers."
   ]
  },
  {
   "cell_type": "code",
   "execution_count": 16,
   "id": "c8fb045f-bb90-4c60-88af-eb3e06697718",
   "metadata": {},
   "outputs": [
    {
     "name": "stdout",
     "output_type": "stream",
     "text": [
      "tuple of first 5 triangular number is (1, 3, 6, 10, 15)\n"
     ]
    }
   ],
   "source": [
    "n=5\n",
    "\n",
    "triangular_num = tuple((i * (i + 1)) // 2 for i in range(1, n + 1))\n",
    "print(f'tuple of first {n} triangular number is {triangular_num}')"
   ]
  },
  {
   "cell_type": "markdown",
   "id": "905d3869-2c9a-4c3b-84a8-ffe29be2bc5a",
   "metadata": {},
   "source": [
    "49. Check if a tuple contains another tuple as a subsequence"
   ]
  },
  {
   "cell_type": "code",
   "execution_count": 20,
   "id": "79916656-1a26-4ec6-a66c-404fb29d8e3c",
   "metadata": {},
   "outputs": [
    {
     "name": "stdout",
     "output_type": "stream",
     "text": [
      "it does not contain subsequence\n"
     ]
    }
   ],
   "source": [
    "def contains_subsequence(main_tuple, sub_tuple):\n",
    "    sub_length = len(sub_tuple)\n",
    "    for i in range(len(main_tuple) - sub_length + 1):\n",
    "        if main_tuple[i:i+sub_length] == sub_tuple:\n",
    "            return True\n",
    "    return False\n",
    "\n",
    "main_tuple=(1,2,3,4,5,6,7,8,9)\n",
    "sub_tuple=(4,5,10)\n",
    "if contains_subsequence(main_tuple, sub_tuple):\n",
    "    print('it contain subsequence')\n",
    "else:\n",
    "    print('it does not contain subsequence')"
   ]
  },
  {
   "cell_type": "markdown",
   "id": "7ce57a4e-3516-4e8a-8a6c-d7d3468422bd",
   "metadata": {},
   "source": [
    "50. Create a tuple of alternating 1s and 0s of length `n`."
   ]
  },
  {
   "cell_type": "code",
   "execution_count": 21,
   "id": "a2d3d886-4b93-4a34-b15f-59229e428ca9",
   "metadata": {},
   "outputs": [
    {
     "name": "stdout",
     "output_type": "stream",
     "text": [
      "alternating tuple: (0, 1, 0, 1, 0, 1, 0, 1, 0, 1)\n"
     ]
    }
   ],
   "source": [
    "n=10\n",
    "alter_tuple = tuple(i % 2 for i in range(n))\n",
    "\n",
    "print('alternating tuple:',alter_tuple)"
   ]
  },
  {
   "cell_type": "markdown",
   "id": "e087b763-2641-4324-aa73-7a9fbcb63673",
   "metadata": {},
   "source": [
    "                                  Set Based Practise Problem"
   ]
  },
  {
   "cell_type": "markdown",
   "id": "673e5b7d-8a7c-4453-a02f-4918449bb801",
   "metadata": {},
   "source": [
    "1. Create a set with integers from 1 to 5"
   ]
  },
  {
   "cell_type": "code",
   "execution_count": 22,
   "id": "6d7f6454-261a-4881-af3a-5105629990cc",
   "metadata": {},
   "outputs": [
    {
     "name": "stdout",
     "output_type": "stream",
     "text": [
      "{1, 2, 3, 4, 5}\n"
     ]
    }
   ],
   "source": [
    "my_set={i for i in range(1,6)}\n",
    "\n",
    "print(my_set)"
   ]
  },
  {
   "cell_type": "markdown",
   "id": "53714e80-ad26-49b3-bba2-4bf3a0524912",
   "metadata": {},
   "source": [
    "2. Add an element to a set."
   ]
  },
  {
   "cell_type": "code",
   "execution_count": 25,
   "id": "f760a0f5-bb1d-4d6f-b4c4-14fbde568689",
   "metadata": {},
   "outputs": [
    {
     "name": "stdout",
     "output_type": "stream",
     "text": [
      "original set {1, 2, 3, 4, 5, 6}\n",
      "set after adding 8 is {1, 2, 3, 4, 5, 6, 8}\n"
     ]
    }
   ],
   "source": [
    "my_set={1,2,3,4,5,6}\n",
    "print('original set',my_set)\n",
    "element=8\n",
    "my_set.add(element)\n",
    "print(f'set after adding {element} is {my_set}')"
   ]
  },
  {
   "cell_type": "markdown",
   "id": "90b6383e-53bc-4c0a-b75a-52f55bb5da38",
   "metadata": {},
   "source": [
    "3. Remove an element from a set."
   ]
  },
  {
   "cell_type": "code",
   "execution_count": 27,
   "id": "688d5f69-5494-41cb-81c4-c0d0723a9606",
   "metadata": {},
   "outputs": [
    {
     "name": "stdout",
     "output_type": "stream",
     "text": [
      "original set {1, 2, 3, 4, 5, 6}\n",
      "set after removing 4 is {1, 2, 3, 5, 6}\n"
     ]
    }
   ],
   "source": [
    "my_set={1,2,3,4,5,6}\n",
    "print('original set',my_set)\n",
    "element=4\n",
    "my_set.remove(element)\n",
    "print(f'set after removing {element} is {my_set}')"
   ]
  },
  {
   "cell_type": "markdown",
   "id": "05d2c8b8-d138-415b-8255-c339d7ef843e",
   "metadata": {},
   "source": [
    "4. Check if an element exists in a set."
   ]
  },
  {
   "cell_type": "code",
   "execution_count": 30,
   "id": "74678861-bc5d-457a-a743-42f0866f73d0",
   "metadata": {},
   "outputs": [
    {
     "name": "stdin",
     "output_type": "stream",
     "text": [
      "enter a element to check 4\n"
     ]
    },
    {
     "name": "stdout",
     "output_type": "stream",
     "text": [
      "element exit\n"
     ]
    }
   ],
   "source": [
    "my_set={1,2,3,4,5,6}\n",
    "element=int(input('enter a element to check'))\n",
    "\n",
    "if element in my_set:\n",
    "    print('element exit')\n",
    "else:\n",
    "    print('element not exit')"
   ]
  },
  {
   "cell_type": "markdown",
   "id": "49090857-6f4d-4059-9fb9-55a125c21918",
   "metadata": {},
   "source": [
    "5. Find the length of a set without using the len() function."
   ]
  },
  {
   "cell_type": "code",
   "execution_count": 31,
   "id": "6d5e1fa5-f058-40ca-9d05-affec9c5b164",
   "metadata": {},
   "outputs": [
    {
     "name": "stdout",
     "output_type": "stream",
     "text": [
      "length of set is: 6\n"
     ]
    }
   ],
   "source": [
    "my_set={1,2,3,4,5,6}\n",
    "\n",
    "length=0\n",
    "for i in my_set:\n",
    "    length+=1\n",
    "print('length of set is:',length)"
   ]
  },
  {
   "cell_type": "markdown",
   "id": "fae9acf0-62ca-481a-8557-4013f87e6737",
   "metadata": {},
   "source": [
    "6. Clear all elements from a set"
   ]
  },
  {
   "cell_type": "code",
   "execution_count": 33,
   "id": "526e9793-307d-4e36-861d-213a45ed15f1",
   "metadata": {},
   "outputs": [
    {
     "name": "stdout",
     "output_type": "stream",
     "text": [
      "set after clear all element: set()\n"
     ]
    }
   ],
   "source": [
    "my_set={1,2,3,4,56}\n",
    "my_set.clear()\n",
    "\n",
    "print('set after clear all element:',my_set)"
   ]
  },
  {
   "cell_type": "markdown",
   "id": "df1ce9e0-39ae-4329-89d6-9d7030a90081",
   "metadata": {},
   "source": [
    "7. Create a set of even numbers from 1 to 10.\n"
   ]
  },
  {
   "cell_type": "code",
   "execution_count": 35,
   "id": "ccafbece-7555-4d92-9104-80ca718a3850",
   "metadata": {},
   "outputs": [
    {
     "name": "stdout",
     "output_type": "stream",
     "text": [
      "set of even numbers from 1 to 10: {2, 4, 6, 8, 10}\n"
     ]
    }
   ],
   "source": [
    "my_set={i for i in range(1,11) if i%2==0}\n",
    "\n",
    "print('set of even numbers from 1 to 10:',my_set)"
   ]
  },
  {
   "cell_type": "markdown",
   "id": "383105cd-44c6-492d-be79-99091077d90e",
   "metadata": {},
   "source": [
    "8. Create a set of odd numbers from 1 to 10.\n"
   ]
  },
  {
   "cell_type": "code",
   "execution_count": 36,
   "id": "398179d5-cd8c-4932-8ded-e67fc215d258",
   "metadata": {},
   "outputs": [
    {
     "name": "stdout",
     "output_type": "stream",
     "text": [
      "set of odd numbers from 1 to 10: {1, 3, 5, 7, 9}\n"
     ]
    }
   ],
   "source": [
    "my_set={i for i in range(1,11) if i%2!=0}\n",
    "\n",
    "print('set of odd numbers from 1 to 10:',my_set)"
   ]
  },
  {
   "cell_type": "markdown",
   "id": "3c342414-4b5d-4c7a-8bec-1c5c6b65721d",
   "metadata": {},
   "source": [
    "9. Find the union of two sets."
   ]
  },
  {
   "cell_type": "code",
   "execution_count": 37,
   "id": "99609034-61b5-4006-83c5-2955b6e02dbb",
   "metadata": {},
   "outputs": [
    {
     "name": "stdout",
     "output_type": "stream",
     "text": [
      "set1: {1, 2, 3, 4, 5, 6}\n",
      "set2: {5, 6, 7, 8, 9}\n",
      "union of set1 and set2 is: {1, 2, 3, 4, 5, 6, 7, 8, 9}\n"
     ]
    }
   ],
   "source": [
    "set1={1,2,3,4,5,6}\n",
    "print('set1:',set1)\n",
    "set2={5,6,7,8,9}\n",
    "print('set2:',set2)\n",
    "\n",
    "union_set=set1.union(set2)\n",
    "print('union of set1 and set2 is:',union_set)\n",
    "\n"
   ]
  },
  {
   "cell_type": "markdown",
   "id": "f83ee3cb-f5b5-4f3e-bb72-c036e993b712",
   "metadata": {},
   "source": [
    "10. Find the intersection of two sets.\n"
   ]
  },
  {
   "cell_type": "code",
   "execution_count": 39,
   "id": "33c13168-402d-4b82-afab-151b59db96f7",
   "metadata": {},
   "outputs": [
    {
     "name": "stdout",
     "output_type": "stream",
     "text": [
      "set1: {1, 2, 3, 4, 5, 6}\n",
      "set2: {5, 6, 7, 8, 9}\n",
      "intersection of set1 and set2 is: {5, 6}\n"
     ]
    }
   ],
   "source": [
    "set1={1,2,3,4,5,6}\n",
    "print('set1:',set1)\n",
    "set2={5,6,7,8,9}\n",
    "print('set2:',set2)\n",
    "\n",
    "inters_set=set1.intersection(set2)\n",
    "print('intersection of set1 and set2 is:',inters_set)\n"
   ]
  },
  {
   "cell_type": "markdown",
   "id": "7a395962-5d9c-4e65-886a-e6343486c60f",
   "metadata": {},
   "source": [
    "11. Find the difference between two sets"
   ]
  },
  {
   "cell_type": "code",
   "execution_count": 40,
   "id": "917c4646-abdc-4cb5-a8b2-03f6b41f0de7",
   "metadata": {},
   "outputs": [
    {
     "name": "stdout",
     "output_type": "stream",
     "text": [
      "set1: {1, 2, 3, 4, 5, 6}\n",
      "set2: {5, 6, 7, 8, 9}\n",
      "difference of set1 and set2 is: {1, 2, 3, 4}\n"
     ]
    }
   ],
   "source": [
    "set1={1,2,3,4,5,6}\n",
    "print('set1:',set1)\n",
    "set2={5,6,7,8,9}\n",
    "print('set2:',set2)\n",
    "\n",
    "differ_set=set1.difference(set2)\n",
    "print('difference of set1 and set2 is:',differ_set)"
   ]
  },
  {
   "cell_type": "markdown",
   "id": "1f5dec74-b626-4c73-b9f8-a47496f1ba39",
   "metadata": {},
   "source": [
    "12. Check if a set is a subset of another set."
   ]
  },
  {
   "cell_type": "code",
   "execution_count": 42,
   "id": "23c6337e-6f9a-4244-ad22-3396d115956a",
   "metadata": {},
   "outputs": [
    {
     "name": "stdout",
     "output_type": "stream",
     "text": [
      "set1: {8, 6, 7}\n",
      "set2: {5, 6, 7, 8, 9}\n",
      "is set1 is a subset of set2: True\n"
     ]
    }
   ],
   "source": [
    "set1={6,7,8}\n",
    "print('set1:',set1)\n",
    "set2={5,6,7,8,9}\n",
    "print('set2:',set2)\n",
    "\n",
    "result=set1.issubset(set2)\n",
    "print('is set1 is a subset of set2:',result)"
   ]
  },
  {
   "cell_type": "markdown",
   "id": "7cdb7c68-0065-4bb7-8b17-24deb6f30672",
   "metadata": {},
   "source": [
    "13. Check if a set is a superset of another set.\n"
   ]
  },
  {
   "cell_type": "code",
   "execution_count": 45,
   "id": "5704379a-0b8a-4927-ad72-0df4ceef4e54",
   "metadata": {},
   "outputs": [
    {
     "name": "stdout",
     "output_type": "stream",
     "text": [
      "set1: {8, 6, 7}\n",
      "set2: {5, 6, 7, 8, 9}\n",
      "is set2 is a superset of set1: True\n"
     ]
    }
   ],
   "source": [
    "set1={6,7,8}\n",
    "print('set1:',set1)\n",
    "set2={5,6,7,8,9}\n",
    "print('set2:',set2)\n",
    "\n",
    "result=set2.issuperset(set1)\n",
    "print('is set2 is a superset of set1:',result)"
   ]
  },
  {
   "cell_type": "markdown",
   "id": "67b41250-e595-46da-a533-30c646ca9881",
   "metadata": {},
   "source": [
    "14. Create a set from a list."
   ]
  },
  {
   "cell_type": "code",
   "execution_count": 46,
   "id": "168d6d82-ec6a-4122-858c-00b7c1bb98ec",
   "metadata": {},
   "outputs": [
    {
     "name": "stdout",
     "output_type": "stream",
     "text": [
      "this is my list: [1, 2, 3, 4, 5, 6]\n",
      "set of my list is: {1, 2, 3, 4, 5, 6}\n"
     ]
    }
   ],
   "source": [
    "lis=[1,2,3,4,5,6]\n",
    "print('this is my list:',lis)\n",
    "\n",
    "print('set of my list is:',set(lis))"
   ]
  },
  {
   "cell_type": "markdown",
   "id": "66a27849-9836-4be6-a282-9b7ded6c45c3",
   "metadata": {},
   "source": [
    "15. Convert a set to a list.\n"
   ]
  },
  {
   "cell_type": "code",
   "execution_count": 47,
   "id": "1762534e-51db-4ffc-87c0-0f87362e1588",
   "metadata": {},
   "outputs": [
    {
     "name": "stdout",
     "output_type": "stream",
     "text": [
      "this is my set: {1, 2, 3, 4, 5, 6}\n",
      "list of my set is: [1, 2, 3, 4, 5, 6]\n"
     ]
    }
   ],
   "source": [
    "set1={1,2,3,4,5,6}\n",
    "print('this is my set:',set1)\n",
    "\n",
    "print('list of my set is:',list(set1))"
   ]
  },
  {
   "cell_type": "markdown",
   "id": "9db85a19-c95f-4bd1-a01f-c576d327888f",
   "metadata": {},
   "source": [
    "16. Remove a random element from a set.\n"
   ]
  },
  {
   "cell_type": "code",
   "execution_count": 48,
   "id": "232507cf-446e-47e7-870f-bf6216603074",
   "metadata": {},
   "outputs": [
    {
     "name": "stdout",
     "output_type": "stream",
     "text": [
      "original set: {1, 2, 3, 4, 5, 6}\n",
      "set after removing element 2 is {1, 3, 4, 5, 6}\n"
     ]
    }
   ],
   "source": [
    "import random\n",
    "my_set={1,2,3,4,5,6}\n",
    "print('original set:',my_set)\n",
    "\n",
    "remove=random.choice(list(my_set))\n",
    "my_set.remove(remove)\n",
    "print(f'set after removing element {remove} is {my_set}')"
   ]
  },
  {
   "cell_type": "markdown",
   "id": "bda3eded-b1b9-40e4-a387-a78296337dee",
   "metadata": {},
   "source": [
    "17. Pop an element from a set.\n"
   ]
  },
  {
   "cell_type": "code",
   "execution_count": 1,
   "id": "91536bb3-ace6-4b22-bf56-e91f723d49bd",
   "metadata": {},
   "outputs": [
    {
     "name": "stdout",
     "output_type": "stream",
     "text": [
      "original set {1, 2, 3, 4, 5, 6}\n",
      "set after removing 1 is {2, 3, 4, 5, 6}\n"
     ]
    }
   ],
   "source": [
    "my_set={1,2,3,4,5,6}\n",
    "print('original set',my_set)\n",
    "\n",
    "element=my_set.pop()\n",
    "print(f'set after removing {element} is {my_set}')"
   ]
  },
  {
   "cell_type": "markdown",
   "id": "bff98142-6fd9-4c46-8de5-e648f31f678d",
   "metadata": {},
   "source": [
    "18. Check if two sets have no elements in common"
   ]
  },
  {
   "cell_type": "code",
   "execution_count": 5,
   "id": "c5dbd4af-09ef-4e39-821e-6b96fec3e25e",
   "metadata": {},
   "outputs": [
    {
     "name": "stdout",
     "output_type": "stream",
     "text": [
      "set1: {1, 2, 3, 4, 5}\n",
      "set2: {5, 6, 7, 8, 9}\n",
      "sets have a common element {5}\n"
     ]
    }
   ],
   "source": [
    "set1={1,2,3,4,5}\n",
    "set2={5,6,7,8,9}\n",
    "print('set1:',set1)\n",
    "print('set2:',set2)\n",
    "\n",
    "intersection=set1.intersection(set2)\n",
    "if set1.intersection(set2):\n",
    "    print('sets have a common element',intersection)\n",
    "else:\n",
    "    print('sets have no common element')"
   ]
  },
  {
   "cell_type": "markdown",
   "id": "1efe7278-04dc-4494-b892-43e0ddc8c7af",
   "metadata": {},
   "source": [
    "19. Find the symmetric difference between two sets.\n"
   ]
  },
  {
   "cell_type": "code",
   "execution_count": 7,
   "id": "34a5300c-ee9e-405a-b57a-fd17db37fee0",
   "metadata": {},
   "outputs": [
    {
     "name": "stdout",
     "output_type": "stream",
     "text": [
      "set1: {1, 2, 3, 4, 5}\n",
      "set2: {5, 6, 7, 8, 9}\n",
      "symmetric difference: {1, 2, 3, 4, 6, 7, 8, 9}\n"
     ]
    }
   ],
   "source": [
    "set1={1,2,3,4,5}\n",
    "set2={5,6,7,8,9}\n",
    "print('set1:',set1)\n",
    "print('set2:',set2)\n",
    "\n",
    "difference=set1.symmetric_difference(set2)\n",
    "print('symmetric difference:',difference)"
   ]
  },
  {
   "cell_type": "markdown",
   "id": "81404eda-c98a-4b08-96ed-9e056f047e3d",
   "metadata": {},
   "source": [
    "20. Update a set with elements from another set."
   ]
  },
  {
   "cell_type": "code",
   "execution_count": 9,
   "id": "cb423f65-775b-4b16-9d68-0e687b27bcb4",
   "metadata": {},
   "outputs": [
    {
     "name": "stdout",
     "output_type": "stream",
     "text": [
      "set1: {1, 2, 3, 4, 5}\n",
      "set2: {5, 6, 7, 8, 9}\n",
      "after updating set1 with set2: {1, 2, 3, 4, 5, 6, 7, 8, 9}\n"
     ]
    }
   ],
   "source": [
    "set1={1,2,3,4,5}\n",
    "set2={5,6,7,8,9}\n",
    "print('set1:',set1)\n",
    "print('set2:',set2)\n",
    "\n",
    "set1.update(set2)\n",
    "print('after updating set1 with set2:',set1)"
   ]
  },
  {
   "cell_type": "markdown",
   "id": "37e43859-eda8-46fd-89a8-36a1d84d29ff",
   "metadata": {},
   "source": [
    "21. Create a set of the first 5 prime numbers."
   ]
  },
  {
   "cell_type": "code",
   "execution_count": 10,
   "id": "5ca7fb38-8394-4191-902d-11070b097e3c",
   "metadata": {},
   "outputs": [
    {
     "name": "stdout",
     "output_type": "stream",
     "text": [
      "set of first 5 prime number {2, 3, 5, 7, 11}\n"
     ]
    }
   ],
   "source": [
    "def is_prime(num):\n",
    "    if num <= 1:\n",
    "        return False\n",
    "    for i in range(2, int(num ** 0.5) + 1):\n",
    "        if num % i == 0:\n",
    "            return False\n",
    "    return True\n",
    "\n",
    "prime_set = set()\n",
    "num = 2\n",
    "\n",
    "while len(prime_set) < 5:\n",
    "    if is_prime(num):\n",
    "        prime_set.add(num)\n",
    "    num += 1\n",
    "    \n",
    "print('set of first 5 prime number',prime_set)"
   ]
  },
  {
   "cell_type": "markdown",
   "id": "084b1e76-6bb8-4235-ac66-9716bc1f2745",
   "metadata": {},
   "source": [
    "22. Check if two sets are identical.\n"
   ]
  },
  {
   "cell_type": "code",
   "execution_count": 11,
   "id": "7a2b5e59-6cf1-478e-be6b-2cc9faa7d0f8",
   "metadata": {},
   "outputs": [
    {
     "name": "stdout",
     "output_type": "stream",
     "text": [
      "set1: {1, 2, 3, 4, 5}\n",
      "set2: {5, 6, 7, 8, 9}\n",
      "sets are not identical\n"
     ]
    }
   ],
   "source": [
    "set1={1,2,3,4,5}\n",
    "set2={5,6,7,8,9}\n",
    "print('set1:',set1)\n",
    "print('set2:',set2)\n",
    "\n",
    "if set1==(set2):\n",
    "    print('sets are identical')\n",
    "else:\n",
    "    print('sets are not identical')"
   ]
  },
  {
   "cell_type": "markdown",
   "id": "7a830ad9-db4f-4aff-a310-327393da2043",
   "metadata": {},
   "source": [
    "23. Create a frozen set.\n"
   ]
  },
  {
   "cell_type": "code",
   "execution_count": 12,
   "id": "5df9dcf3-a7a7-43ec-98d0-f4a4dd6013d2",
   "metadata": {},
   "outputs": [
    {
     "name": "stdout",
     "output_type": "stream",
     "text": [
      "frozen set: frozenset({1, 2, 3, 5, 8})\n"
     ]
    }
   ],
   "source": [
    "lis=[2,3,5,1,8]\n",
    "frozen_set=frozenset(lis)\n",
    "\n",
    "print('frozen set:',frozen_set)"
   ]
  },
  {
   "cell_type": "markdown",
   "id": "9b2e0410-d7c7-4c04-a319-75cf3c2dbaa9",
   "metadata": {},
   "source": [
    "24. Check if a set is disjoint with another set.\n"
   ]
  },
  {
   "cell_type": "code",
   "execution_count": 14,
   "id": "0043c833-ca14-407a-8e1e-10e2081b3a96",
   "metadata": {},
   "outputs": [
    {
     "name": "stdout",
     "output_type": "stream",
     "text": [
      "set1: {1, 2, 3, 4, 5}\n",
      "set2: {8, 9, 6, 7}\n",
      "sets are disjoint\n"
     ]
    }
   ],
   "source": [
    "set1={1,2,3,4,5}\n",
    "set2={6,7,8,9}\n",
    "print('set1:',set1)\n",
    "print('set2:',set2)\n",
    "\n",
    "if set1.isdisjoint(set2):\n",
    "    print('sets are disjoint')\n",
    "else:\n",
    "    print('sets are not disjoint')"
   ]
  },
  {
   "cell_type": "markdown",
   "id": "8496ea95-b647-48e6-87ec-1608bf50117d",
   "metadata": {},
   "source": [
    "25. Create a set of squares of numbers from 1 to 5."
   ]
  },
  {
   "cell_type": "code",
   "execution_count": 15,
   "id": "be3f0c09-24a3-49c6-b8e8-5ce2720c34c8",
   "metadata": {},
   "outputs": [
    {
     "name": "stdout",
     "output_type": "stream",
     "text": [
      "set of squares of number from 1 to 5 : {1, 4, 9, 16, 25}\n"
     ]
    }
   ],
   "source": [
    "lis=[i**2 for i in range(1,6)]\n",
    "\n",
    "print('set of squares of number from 1 to 5 :',set(lis))"
   ]
  },
  {
   "cell_type": "markdown",
   "id": "8c58553f-122a-49d4-9d24-f5f547b6259c",
   "metadata": {},
   "source": [
    "26. Filter out all even numbers from a set."
   ]
  },
  {
   "cell_type": "code",
   "execution_count": 18,
   "id": "c9b08d0d-811f-4fe2-be5a-2f1aca4fe1be",
   "metadata": {},
   "outputs": [
    {
     "name": "stdout",
     "output_type": "stream",
     "text": [
      "original set: {1, 2, 3, 4, 5, 6, 7, 8, 9}\n",
      "filtered set: {8, 2, 4, 6}\n"
     ]
    }
   ],
   "source": [
    "my_set={1,2,3,4,5,6,7,8,9}\n",
    "print('original set:',my_set)\n",
    "\n",
    "filter_set=set()\n",
    "for i in my_set:\n",
    "    if i%2==0:\n",
    "        filter_set.add(i)\n",
    "print('filtered set:',filter_set)"
   ]
  },
  {
   "cell_type": "markdown",
   "id": "9e2a0456-4339-4797-be9e-be03ce9417ca",
   "metadata": {},
   "source": [
    "27. Multiply all elements in a set by 2."
   ]
  },
  {
   "cell_type": "code",
   "execution_count": 20,
   "id": "c5333d05-a5f7-4e8f-82c3-a854f6160176",
   "metadata": {},
   "outputs": [
    {
     "name": "stdout",
     "output_type": "stream",
     "text": [
      "original set: {1, 2, 3, 4, 5, 6, 7, 8, 9}\n",
      "doubled set: {2, 4, 6, 8, 10, 12, 14, 16, 18}\n"
     ]
    }
   ],
   "source": [
    "my_set={1,2,3,4,5,6,7,8,9}\n",
    "print('original set:',my_set)\n",
    "\n",
    "mul_set=set()\n",
    "for i in my_set:\n",
    "    mul=i*2\n",
    "    mul_set.add(mul)\n",
    "print('doubled set:',mul_set)"
   ]
  },
  {
   "cell_type": "markdown",
   "id": "fac8dc2e-7675-4384-9d25-7046ed0e02b7",
   "metadata": {},
   "source": [
    "28. Create a set of random numbers.\n"
   ]
  },
  {
   "cell_type": "code",
   "execution_count": 30,
   "id": "2de9d991-d7df-4768-90d4-57fcdc0653a9",
   "metadata": {},
   "outputs": [
    {
     "name": "stdout",
     "output_type": "stream",
     "text": [
      "random number set: {100, 51, 23, 58, 28}\n"
     ]
    }
   ],
   "source": [
    "import random\n",
    "\n",
    "random_set=set()\n",
    "for _ in range(5):\n",
    "    random_num = random.randint(1, 100)\n",
    "    random_set.add(random_num)\n",
    "print('random number set:',random_set)"
   ]
  },
  {
   "cell_type": "markdown",
   "id": "f59bfe1a-8c0d-41f5-889a-196bd040e0f3",
   "metadata": {},
   "source": [
    "29. Check if a set is empty."
   ]
  },
  {
   "cell_type": "code",
   "execution_count": 32,
   "id": "5e6d0ba4-6265-4db7-a008-b773f0d26d2c",
   "metadata": {},
   "outputs": [
    {
     "name": "stdout",
     "output_type": "stream",
     "text": [
      "original set: set()\n",
      "set is empty\n"
     ]
    }
   ],
   "source": [
    "my_set=set()\n",
    "print('original set:',my_set)\n",
    "\n",
    "if my_set==set():\n",
    "    print('set is empty')\n",
    "else:\n",
    "    print('set is not empty')"
   ]
  },
  {
   "cell_type": "markdown",
   "id": "bcf38aa7-c466-41ab-a2ad-75a3dda88c68",
   "metadata": {},
   "source": [
    "30. Create a nested set (hint: use frozenset)."
   ]
  },
  {
   "cell_type": "code",
   "execution_count": 33,
   "id": "c7bdaa29-704d-418e-a1e9-96fff1cb69eb",
   "metadata": {},
   "outputs": [
    {
     "name": "stdout",
     "output_type": "stream",
     "text": [
      "nested set: {frozenset({1, 2, 3, 4}), frozenset({8, 5, 6, 7})}\n"
     ]
    }
   ],
   "source": [
    "set1={1,2,3,4}\n",
    "set2={5,6,7,8}\n",
    "\n",
    "frozen_set1=frozenset(set1)\n",
    "frozen_set2=frozenset(set2)\n",
    "\n",
    "nested={frozen_set1,frozen_set2}\n",
    "print('nested set:',nested)"
   ]
  },
  {
   "cell_type": "markdown",
   "id": "2b0046e9-ecc7-4d51-ae2e-25cdfdf6b85b",
   "metadata": {},
   "source": [
    "31. Remove an element from a set using the discard method."
   ]
  },
  {
   "cell_type": "code",
   "execution_count": 35,
   "id": "5c65c303-c89b-4f56-a1bd-5c532c85eb47",
   "metadata": {},
   "outputs": [
    {
     "name": "stdout",
     "output_type": "stream",
     "text": [
      "original set: {1, 2, 3, 4, 5, 6, 7}\n",
      "set after removing 3 is {1, 2, 4, 5, 6, 7}\n"
     ]
    }
   ],
   "source": [
    "my_set={1,2,3,4,5,6,7}\n",
    "print('original set:',my_set)\n",
    "\n",
    "element=3\n",
    "my_set.discard(element)\n",
    "print(f'set after removing {element} is {my_set}')"
   ]
  },
  {
   "cell_type": "markdown",
   "id": "acae198e-09df-4385-afde-cfe25b558fc9",
   "metadata": {},
   "source": [
    "32. Compare two sets."
   ]
  },
  {
   "cell_type": "code",
   "execution_count": 36,
   "id": "080eba50-a028-40b4-8f52-da15307aa37e",
   "metadata": {},
   "outputs": [
    {
     "name": "stdout",
     "output_type": "stream",
     "text": [
      "set1: {1, 2, 3, 4, 5}\n",
      "set2: {8, 9, 6, 7}\n",
      "Is set1 a subset of set2? False\n",
      "Is set2 a subset of set1? False\n",
      "Intersection: set()\n",
      "Union: {1, 2, 3, 4, 5, 6, 7, 8, 9}\n",
      "Elements in set1 but not in set2: {1, 2, 3, 4, 5}\n",
      "Elements in set2 but not in set1: {8, 9, 6, 7}\n"
     ]
    }
   ],
   "source": [
    "set1={1,2,3,4,5}\n",
    "set2={6,7,8,9}\n",
    "print('set1:',set1)\n",
    "print('set2:',set2)\n",
    "\n",
    "is_subset = set1.issubset(set2)\n",
    "is_superset = set1.issuperset(set2)\n",
    "intersection = set1.intersection(set2)\n",
    "union = set1.union(set2)\n",
    "difference1 = set1.difference(set2)\n",
    "difference2 = set2.difference(set1)\n",
    "\n",
    "print(\"Is set1 a subset of set2?\", is_subset)\n",
    "print(\"Is set2 a subset of set1?\", is_superset)\n",
    "print(\"Intersection:\", intersection)\n",
    "print(\"Union:\", union)\n",
    "print(\"Elements in set1 but not in set2:\", difference1)\n",
    "print(\"Elements in set2 but not in set1:\", difference2)"
   ]
  },
  {
   "cell_type": "markdown",
   "id": "d0bea8fb-5989-477f-a78d-f4fdc963cbc4",
   "metadata": {},
   "source": [
    "33. Create a set from a string."
   ]
  },
  {
   "cell_type": "code",
   "execution_count": 37,
   "id": "95a75d65-5576-4a5d-9444-53fada5fe49a",
   "metadata": {},
   "outputs": [
    {
     "name": "stdout",
     "output_type": "stream",
     "text": [
      "set of mayur is {'r', 'm', 'a', 'y', 'u'}\n"
     ]
    }
   ],
   "source": [
    "string='mayur'\n",
    "\n",
    "string_set=set()\n",
    "for i in string:\n",
    "    string_set.add(i)\n",
    "    \n",
    "print('set of',string,'is',string_set)"
   ]
  },
  {
   "cell_type": "markdown",
   "id": "4345ff9d-09d7-460e-93e0-6d20c97c7717",
   "metadata": {},
   "source": [
    "34. Convert a set of strings to a set of integers."
   ]
  },
  {
   "cell_type": "code",
   "execution_count": 38,
   "id": "5d8d61d5-42f6-4bf8-b449-83eee7fbd52e",
   "metadata": {},
   "outputs": [
    {
     "name": "stdout",
     "output_type": "stream",
     "text": [
      "set of string: {'4', '3', '5', '2', '1'}\n",
      "set of integer: {1, 2, 3, 4, 5}\n"
     ]
    }
   ],
   "source": [
    "set_string={'1','2','3','4','5'}\n",
    "print('set of string:',set_string)\n",
    "\n",
    "int_set=set()\n",
    "for i in set_string:\n",
    "    int_set.add(int(i))\n",
    "\n",
    "print('set of integer:',int_set)"
   ]
  },
  {
   "cell_type": "markdown",
   "id": "df09299c-5648-4854-bc7f-642b5189fd74",
   "metadata": {},
   "source": [
    "35. Convert a set of integers to a set of strings.\n"
   ]
  },
  {
   "cell_type": "code",
   "execution_count": 39,
   "id": "7f4da4f0-1860-483c-bab4-e28f4de7a0af",
   "metadata": {},
   "outputs": [
    {
     "name": "stdout",
     "output_type": "stream",
     "text": [
      "set of integer: {1, 2, 3, 4, 5}\n",
      "set of string: {'5', '1', '4', '3', '2'}\n"
     ]
    }
   ],
   "source": [
    "set_int={1,2,3,4,5}\n",
    "print('set of integer:',set_int)\n",
    "\n",
    "set_str=set()\n",
    "for i in set_int:\n",
    "    set_str.add(str(i))\n",
    "\n",
    "print('set of string:',set_str)"
   ]
  },
  {
   "cell_type": "markdown",
   "id": "439213c1-4bd7-43e3-8dad-6bf3addee443",
   "metadata": {},
   "source": [
    "36. Create a set from a tuple."
   ]
  },
  {
   "cell_type": "code",
   "execution_count": 41,
   "id": "1cbf1b69-5e86-4694-92fb-5eacede0a820",
   "metadata": {},
   "outputs": [
    {
     "name": "stdout",
     "output_type": "stream",
     "text": [
      "tuple: (1, 2, 3, 4, 5, 6)\n",
      "set of tuple: {1, 2, 3, 4, 5, 6}\n"
     ]
    }
   ],
   "source": [
    "tup=(1,2,3,4,5,6)\n",
    "print('tuple:',tup)\n",
    "\n",
    "print('set of tuple:',set(tup))"
   ]
  },
  {
   "cell_type": "markdown",
   "id": "10dfcea9-41b6-4aac-acda-6850e2778fab",
   "metadata": {},
   "source": [
    "37. Convert a set to a tuple.\n"
   ]
  },
  {
   "cell_type": "code",
   "execution_count": 42,
   "id": "aab8b7bd-60ff-42c1-b571-449379719916",
   "metadata": {},
   "outputs": [
    {
     "name": "stdout",
     "output_type": "stream",
     "text": [
      "set: {1, 2, 3, 4, 5}\n",
      "tuple of set: (1, 2, 3, 4, 5)\n"
     ]
    }
   ],
   "source": [
    "my_set={1,2,3,4,5}\n",
    "print('set:',my_set)\n",
    "\n",
    "print('tuple of set:',tuple(my_set))"
   ]
  },
  {
   "cell_type": "markdown",
   "id": "dbaeff1d-ed79-4a67-8e75-652563dffa12",
   "metadata": {},
   "source": [
    "38. Find the maximum value in a set.\n"
   ]
  },
  {
   "cell_type": "code",
   "execution_count": 43,
   "id": "b6ed6492-af4e-41db-8b83-fdf725ae8aee",
   "metadata": {},
   "outputs": [
    {
     "name": "stdout",
     "output_type": "stream",
     "text": [
      "maximum value in set {1, 2, 3, 4, 6, 8, 9} is 9\n"
     ]
    }
   ],
   "source": [
    "my_set={1,2,8,9,6,4,3}\n",
    "print(f'maximum value in set {my_set} is {max(my_set)}')"
   ]
  },
  {
   "cell_type": "markdown",
   "id": "df8ca1fc-5d5e-4202-b07e-eb4120f79b4c",
   "metadata": {},
   "source": [
    "39. Find the minimum value in a set."
   ]
  },
  {
   "cell_type": "code",
   "execution_count": 44,
   "id": "b9ab20ce-f443-4d4a-a506-e25a8f1fb042",
   "metadata": {},
   "outputs": [
    {
     "name": "stdout",
     "output_type": "stream",
     "text": [
      "minimum value in set {1, 2, 3, 4, 6, 8, 9} is 1\n"
     ]
    }
   ],
   "source": [
    "my_set={1,2,8,9,6,4,3}\n",
    "print(f'minimum value in set {my_set} is {min(my_set)}')"
   ]
  },
  {
   "cell_type": "markdown",
   "id": "344f5f0a-212d-4835-9cc4-efa02f56fbf5",
   "metadata": {},
   "source": [
    "40. Create a set from user input"
   ]
  },
  {
   "cell_type": "code",
   "execution_count": 45,
   "id": "4ea0237d-d80b-4079-b91e-e977172d6ae6",
   "metadata": {},
   "outputs": [
    {
     "name": "stdout",
     "output_type": "stream",
     "text": [
      "enter a element to add in set else to finish set enter end\n"
     ]
    },
    {
     "name": "stdin",
     "output_type": "stream",
     "text": [
      "enter a element 1\n",
      "enter a element 12\n",
      "enter a element 54\n",
      "enter a element end\n"
     ]
    },
    {
     "name": "stdout",
     "output_type": "stream",
     "text": [
      "your set: {'54', '12', '1'}\n"
     ]
    }
   ],
   "source": [
    "user_set=set()\n",
    "\n",
    "print('enter a element to add in set else to finish set enter end')\n",
    "while True:\n",
    "    inp=input('enter a element')\n",
    "    \n",
    "    if inp.lower()=='end':\n",
    "        break\n",
    "    user_set.add(inp)\n",
    "    \n",
    "print('your set:',user_set)"
   ]
  },
  {
   "cell_type": "markdown",
   "id": "0d69d3b3-f38b-4b0c-8dbf-03cbbd248ceb",
   "metadata": {},
   "source": [
    "41. Check if the intersection of two sets is empty."
   ]
  },
  {
   "cell_type": "code",
   "execution_count": 49,
   "id": "9e618864-5408-4f19-995e-4a7ea3044c20",
   "metadata": {},
   "outputs": [
    {
     "name": "stdout",
     "output_type": "stream",
     "text": [
      "set1 and set2 are: {1, 2, 3, 4, 5} {8, 9, 6, 7}\n",
      "intersection of two set is empty\n"
     ]
    }
   ],
   "source": [
    "set1={1,2,3,4,5}\n",
    "set2={6,7,8,9}\n",
    "print('set1 and set2 are:',set1,set2)\n",
    "\n",
    "intersection=set1.intersection(set2)\n",
    "if set1.intersection(set2)==set():\n",
    "    print('intersection of two set is empty')\n",
    "else:\n",
    "    print('intersection of two set is not empty',intersection)"
   ]
  },
  {
   "cell_type": "markdown",
   "id": "63adb780-a79b-49ff-bbf8-91bf7e3cceb0",
   "metadata": {},
   "source": [
    "42. Create a set of the first 5 Fibonacci numbers.\n"
   ]
  },
  {
   "cell_type": "code",
   "execution_count": 50,
   "id": "502f2c7e-3a9b-4549-8b9c-928df991ad4b",
   "metadata": {},
   "outputs": [
    {
     "name": "stdout",
     "output_type": "stream",
     "text": [
      "fibonacci set upto 5 is: {0, 1, 2, 3, 5}\n"
     ]
    }
   ],
   "source": [
    "fibonacci_set=set()\n",
    "a,b=0,1\n",
    "for i in range(6):\n",
    "    fibonacci_set.add(a)\n",
    "    \n",
    "    a,b=b,a+b\n",
    "\n",
    "print('fibonacci set upto 5 is:',fibonacci_set)"
   ]
  },
  {
   "cell_type": "markdown",
   "id": "c8547848-af25-4fbd-a642-3829e4af6430",
   "metadata": {},
   "source": [
    "43. Remove duplicates from a list using sets."
   ]
  },
  {
   "cell_type": "code",
   "execution_count": 51,
   "id": "3f476708-444f-408d-99ef-2ff0c7c864d4",
   "metadata": {},
   "outputs": [
    {
     "name": "stdout",
     "output_type": "stream",
     "text": [
      "original list: [1, 2, 3, 4, 5, 6, 1, 2, 3]\n",
      "list after removing duplicates: [1, 2, 3, 4, 5, 6]\n"
     ]
    }
   ],
   "source": [
    "lis=[1,2,3,4,5,6,1,2,3]\n",
    "print('original list:',lis)\n",
    "\n",
    "print('list after removing duplicates:',list(set(lis)))"
   ]
  },
  {
   "cell_type": "markdown",
   "id": "2058a093-4707-4230-8ace-4a8c100f4089",
   "metadata": {},
   "source": [
    "44. Check if two sets have the same elements, regardless of their count."
   ]
  },
  {
   "cell_type": "code",
   "execution_count": 54,
   "id": "332fe662-14b1-4bfa-8099-f8338392c0ae",
   "metadata": {},
   "outputs": [
    {
     "name": "stdout",
     "output_type": "stream",
     "text": [
      "both set have same element\n"
     ]
    }
   ],
   "source": [
    "set1={2,1,3,4,4,3}\n",
    "set2={1,2,3,4}\n",
    "\n",
    "if sorted(set1)==sorted(set2):\n",
    "    print('both set have same element')\n",
    "else:\n",
    "    print('both set have not same element')"
   ]
  },
  {
   "cell_type": "markdown",
   "id": "18fb81b1-06f6-4eca-a3ac-d7731cc5547c",
   "metadata": {},
   "source": [
    "45. Create a set of the first `n` powers of 2."
   ]
  },
  {
   "cell_type": "code",
   "execution_count": 55,
   "id": "9575dc43-c2c4-42d3-82b1-c41a48b0fa10",
   "metadata": {},
   "outputs": [
    {
     "name": "stdout",
     "output_type": "stream",
     "text": [
      "set of first 5 powers of 2 is: {1, 2, 4, 8, 16}\n"
     ]
    }
   ],
   "source": [
    "n=5\n",
    "\n",
    "result=set([2**n for n in range(n)])\n",
    "\n",
    "print(f'set of first {n} powers of 2 is:',result)"
   ]
  },
  {
   "cell_type": "markdown",
   "id": "17ec3540-ec14-42ed-aaad-75c6c33021ec",
   "metadata": {},
   "source": [
    "46. Find the common elements between a set and a list."
   ]
  },
  {
   "cell_type": "code",
   "execution_count": 57,
   "id": "2de88601-f06e-486f-9edd-74d2e980a56f",
   "metadata": {},
   "outputs": [
    {
     "name": "stdout",
     "output_type": "stream",
     "text": [
      "list is: [1, 2, 3, 4, 5, 6]\n",
      "set is: {5, 6, 7, 8, 9}\n",
      "common elements in above list and set is: [5, 6]\n"
     ]
    }
   ],
   "source": [
    "lis=[1,2,3,4,5,6]\n",
    "print('list is:',lis)\n",
    "my_set={5,6,7,8,9}\n",
    "print('set is:',my_set)\n",
    "\n",
    "print('common elements in above list and set is:',list(my_set.intersection(set(lis))))"
   ]
  },
  {
   "cell_type": "markdown",
   "id": "6524acd1-941d-4211-b916-bbfb1499c135",
   "metadata": {},
   "source": [
    "47. Create a set of the first `n` triangular numbers."
   ]
  },
  {
   "cell_type": "code",
   "execution_count": 58,
   "id": "37221447-e42a-4b2d-b92f-32eb8cb315f8",
   "metadata": {},
   "outputs": [
    {
     "name": "stdout",
     "output_type": "stream",
     "text": [
      "set of first 10 triangular number is: {1, 3, 36, 6, 10, 45, 15, 21, 55, 28}\n"
     ]
    }
   ],
   "source": [
    "n=10\n",
    "\n",
    "my_set=set()\n",
    "\n",
    "for i in range(1,n+1):\n",
    "    my_set.add(i*(i+1)//2)\n",
    "    \n",
    "print(f'set of first {n} triangular number is: {my_set}')"
   ]
  },
  {
   "cell_type": "markdown",
   "id": "f8db5aa9-faa9-4a70-93be-35030ac639ff",
   "metadata": {},
   "source": [
    "48. Check if a set contains another set as a subset."
   ]
  },
  {
   "cell_type": "code",
   "execution_count": 60,
   "id": "23739be0-2322-4cee-b222-93f4426140d1",
   "metadata": {},
   "outputs": [
    {
     "name": "stdout",
     "output_type": "stream",
     "text": [
      "set1 and set2 are: {1, 2, 3, 4, 5, 6} {1, 2, 3}\n",
      "set2 is a subset of set1\n"
     ]
    }
   ],
   "source": [
    "set1={1,2,3,4,5,6}\n",
    "set2={1,2,3}\n",
    "\n",
    "print('set1 and set2 are:',set1,set2)\n",
    "\n",
    "if set1.issubset(set2):\n",
    "    print('set1 is a subset of set2')\n",
    "elif set2.issubset(set1):\n",
    "    print('set2 is a subset of set1')\n",
    "else:\n",
    "    print('not a subset')\n"
   ]
  },
  {
   "cell_type": "markdown",
   "id": "bdc1a90d-059f-40fc-8920-22214d27dd19",
   "metadata": {},
   "source": [
    "49. Create a set of alternating 1s and 0s of length `n`.\n"
   ]
  },
  {
   "cell_type": "code",
   "execution_count": 62,
   "id": "086dacb1-3cac-4c1c-9855-fa018b0785ee",
   "metadata": {},
   "outputs": [
    {
     "name": "stdout",
     "output_type": "stream",
     "text": [
      "alternating set of length 10 is result {0, 1}\n"
     ]
    }
   ],
   "source": [
    "n=10\n",
    "\n",
    "result=set([i%2 for i in range(n)])\n",
    "print(f'alternating set of length {n} is result {result}')"
   ]
  },
  {
   "cell_type": "markdown",
   "id": "34262bc5-b7e7-46a4-bb1a-772e532f9a99",
   "metadata": {},
   "source": [
    "50. Merge multiple sets into one."
   ]
  },
  {
   "cell_type": "code",
   "execution_count": 66,
   "id": "8b063c9e-54c9-435f-89d1-dd67eec642e1",
   "metadata": {},
   "outputs": [
    {
     "name": "stdout",
     "output_type": "stream",
     "text": [
      "set1, set2 and set3 are {1, 2, 3} {4, 5, 6} {8, 9, 7}\n",
      "merge set: {1, 2, 3, 4, 5, 6, 7, 8, 9}\n"
     ]
    }
   ],
   "source": [
    "set1={1,2,3}\n",
    "set2={4,5,6}\n",
    "set3={7,8,9}\n",
    "\n",
    "print(f'set1, set2 and set3 are {set1} {set2} {set3}')\n",
    "\n",
    "set1.update(set2,set3)\n",
    "print('merge set:',set1)"
   ]
  }
 ],
 "metadata": {
  "kernelspec": {
   "display_name": "Python 3 (ipykernel)",
   "language": "python",
   "name": "python3"
  },
  "language_info": {
   "codemirror_mode": {
    "name": "ipython",
    "version": 3
   },
   "file_extension": ".py",
   "mimetype": "text/x-python",
   "name": "python",
   "nbconvert_exporter": "python",
   "pygments_lexer": "ipython3",
   "version": "3.10.8"
  }
 },
 "nbformat": 4,
 "nbformat_minor": 5
}
